{
 "cells": [
  {
   "cell_type": "code",
   "execution_count": 1,
   "id": "2baf3cdc",
   "metadata": {},
   "outputs": [],
   "source": [
    "import selenium\n",
    "from selenium import webdriver\n",
    "from selenium.common.exceptions import StaleElementReferenceException, NoSuchElementException\n",
    "import time"
   ]
  },
  {
   "cell_type": "markdown",
   "id": "953b2eaf",
   "metadata": {},
   "source": [
    "Question 9. Write a program to extract at least 500 Comments, Comment upvote and time when comment was posted from any YouTube Video."
   ]
  },
  {
   "cell_type": "code",
   "execution_count": 12,
   "id": "d7383569",
   "metadata": {},
   "outputs": [
    {
     "name": "stderr",
     "output_type": "stream",
     "text": [
      "<ipython-input-12-7abdada83911>:1: DeprecationWarning: executable_path has been deprecated, please pass in a Service object\n",
      "  driver = webdriver.Chrome(r\"C:\\Users\\lenovo\\Downloads\\chromedriver_win32\\chromedriver.exe\")\n"
     ]
    }
   ],
   "source": [
    "driver = webdriver.Chrome(r\"C:\\Users\\lenovo\\Downloads\\chromedriver_win32\\chromedriver.exe\")\n",
    "driver.get(\"https://www.youtube.com/watch?v=YfO28Ihehbk\")\n",
    "driver.maximize_window()\n",
    "driver.execute_script(\"window.scrollBy(0,10000)\" \"\")"
   ]
  },
  {
   "cell_type": "code",
   "execution_count": 13,
   "id": "eade7449",
   "metadata": {},
   "outputs": [],
   "source": [
    "for i in range(200):\n",
    "    driver.execute_script(\"window.scrollBy(0,10000)\" \"\")"
   ]
  },
  {
   "cell_type": "code",
   "execution_count": 14,
   "id": "107caa9e",
   "metadata": {},
   "outputs": [
    {
     "name": "stderr",
     "output_type": "stream",
     "text": [
      "<ipython-input-14-0736fe7790a8>:1: DeprecationWarning: find_elements_by_* commands are deprecated. Please use find_elements() instead\n",
      "  Comment = driver.find_elements_by_id(\"content-text\")\n"
     ]
    },
    {
     "data": {
      "text/plain": [
       "20"
      ]
     },
     "execution_count": 14,
     "metadata": {},
     "output_type": "execute_result"
    }
   ],
   "source": [
    "Comment = driver.find_elements_by_id(\"content-text\")\n",
    "len(Comment)"
   ]
  },
  {
   "cell_type": "code",
   "execution_count": 15,
   "id": "085e512e",
   "metadata": {},
   "outputs": [],
   "source": [
    "Comments = []\n",
    "for i in Comment:\n",
    "    Comments.append(i.text)"
   ]
  },
  {
   "cell_type": "code",
   "execution_count": 16,
   "id": "39e78862",
   "metadata": {},
   "outputs": [
    {
     "name": "stderr",
     "output_type": "stream",
     "text": [
      "<ipython-input-16-d6f97fa97ba3>:1: DeprecationWarning: find_elements_by_* commands are deprecated. Please use find_elements() instead\n",
      "  comment_upvote = driver.find_elements_by_id(\"vote-count-middle\")\n"
     ]
    },
    {
     "data": {
      "text/plain": [
       "20"
      ]
     },
     "execution_count": 16,
     "metadata": {},
     "output_type": "execute_result"
    }
   ],
   "source": [
    "comment_upvote = driver.find_elements_by_id(\"vote-count-middle\")\n",
    "len(comment_upvote)"
   ]
  },
  {
   "cell_type": "code",
   "execution_count": 17,
   "id": "6d4530af",
   "metadata": {},
   "outputs": [],
   "source": [
    "Comment_Upvotes = []\n",
    "for i in comment_upvote:\n",
    "    Comment_Upvotes.append(i.text)"
   ]
  },
  {
   "cell_type": "code",
   "execution_count": 18,
   "id": "ec03b238",
   "metadata": {},
   "outputs": [
    {
     "name": "stderr",
     "output_type": "stream",
     "text": [
      "<ipython-input-18-813f53525ac4>:1: DeprecationWarning: find_elements_by_* commands are deprecated. Please use find_elements() instead\n",
      "  time1 = driver.find_elements_by_xpath(\"//*[@id='header-author']/yt-formatted-string/a\")\n"
     ]
    },
    {
     "data": {
      "text/plain": [
       "20"
      ]
     },
     "execution_count": 18,
     "metadata": {},
     "output_type": "execute_result"
    }
   ],
   "source": [
    "time1 = driver.find_elements_by_xpath(\"//*[@id='header-author']/yt-formatted-string/a\")\n",
    "len(time1)"
   ]
  },
  {
   "cell_type": "code",
   "execution_count": 19,
   "id": "d9f105e8",
   "metadata": {},
   "outputs": [],
   "source": [
    "Time = []\n",
    "for i in time1:\n",
    "    Time.append(i.text)"
   ]
  },
  {
   "cell_type": "code",
   "execution_count": 20,
   "id": "e2de3982",
   "metadata": {},
   "outputs": [],
   "source": [
    "import pandas as pd\n",
    "Youtube=pd.DataFrame({})\n",
    "Youtube['Comments']= Comments\n",
    "Youtube['Comment Upvotes']= Comment_Upvotes\n",
    "Youtube['Times']= Time"
   ]
  },
  {
   "cell_type": "code",
   "execution_count": 21,
   "id": "93e7745a",
   "metadata": {},
   "outputs": [
    {
     "data": {
      "text/html": [
       "<div>\n",
       "<style scoped>\n",
       "    .dataframe tbody tr th:only-of-type {\n",
       "        vertical-align: middle;\n",
       "    }\n",
       "\n",
       "    .dataframe tbody tr th {\n",
       "        vertical-align: top;\n",
       "    }\n",
       "\n",
       "    .dataframe thead th {\n",
       "        text-align: right;\n",
       "    }\n",
       "</style>\n",
       "<table border=\"1\" class=\"dataframe\">\n",
       "  <thead>\n",
       "    <tr style=\"text-align: right;\">\n",
       "      <th></th>\n",
       "      <th>Comments</th>\n",
       "      <th>Comment Upvotes</th>\n",
       "      <th>Times</th>\n",
       "    </tr>\n",
       "  </thead>\n",
       "  <tbody>\n",
       "    <tr>\n",
       "      <th>0</th>\n",
       "      <td>01:04 introduction to python\\n05:14 Python set...</td>\n",
       "      <td>527</td>\n",
       "      <td>2 years ago</td>\n",
       "    </tr>\n",
       "    <tr>\n",
       "      <th>1</th>\n",
       "      <td>Telusko and Navin I have gone through your 7 h...</td>\n",
       "      <td>3</td>\n",
       "      <td>5 months ago</td>\n",
       "    </tr>\n",
       "    <tr>\n",
       "      <th>2</th>\n",
       "      <td>One of the best interactive classroom like ses...</td>\n",
       "      <td>1</td>\n",
       "      <td>3 months ago (edited)</td>\n",
       "    </tr>\n",
       "    <tr>\n",
       "      <th>3</th>\n",
       "      <td>Very interactive way of teaching. I like this....</td>\n",
       "      <td>17</td>\n",
       "      <td>1 year ago</td>\n",
       "    </tr>\n",
       "    <tr>\n",
       "      <th>4</th>\n",
       "      <td>Whenever it comes to any topic, I always prefe...</td>\n",
       "      <td>5</td>\n",
       "      <td>1 year ago</td>\n",
       "    </tr>\n",
       "  </tbody>\n",
       "</table>\n",
       "</div>"
      ],
      "text/plain": [
       "                                            Comments Comment Upvotes  \\\n",
       "0  01:04 introduction to python\\n05:14 Python set...             527   \n",
       "1  Telusko and Navin I have gone through your 7 h...               3   \n",
       "2  One of the best interactive classroom like ses...               1   \n",
       "3  Very interactive way of teaching. I like this....              17   \n",
       "4  Whenever it comes to any topic, I always prefe...               5   \n",
       "\n",
       "                   Times  \n",
       "0            2 years ago  \n",
       "1           5 months ago  \n",
       "2  3 months ago (edited)  \n",
       "3             1 year ago  \n",
       "4             1 year ago  "
      ]
     },
     "execution_count": 21,
     "metadata": {},
     "output_type": "execute_result"
    }
   ],
   "source": [
    "Youtube.head()"
   ]
  },
  {
   "cell_type": "markdown",
   "id": "55777a9c",
   "metadata": {},
   "source": [
    "Question 10. Python program to scrape a data for all available Hostels from https://www.hostelworld.com/ in “London” location. You have to scrape hostel name, distance from city centre, ratings, total reviews, overall reviews, privates from price, dorms from price, facilities and property description."
   ]
  },
  {
   "cell_type": "code",
   "execution_count": 22,
   "id": "4b012891",
   "metadata": {},
   "outputs": [],
   "source": [
    "import selenium\n",
    "from selenium import webdriver\n",
    "from selenium.common.exceptions import StaleElementReferenceException, NoSuchElementException\n",
    "import time"
   ]
  },
  {
   "cell_type": "code",
   "execution_count": 31,
   "id": "52ba7dbb",
   "metadata": {},
   "outputs": [
    {
     "name": "stderr",
     "output_type": "stream",
     "text": [
      "<ipython-input-31-15202a3d05e0>:1: DeprecationWarning: executable_path has been deprecated, please pass in a Service object\n",
      "  driver = webdriver.Chrome(r\"C:\\Users\\lenovo\\Downloads\\chromedriver_win32\\chromedriver.exe\")\n"
     ]
    }
   ],
   "source": [
    "driver = webdriver.Chrome(r\"C:\\Users\\lenovo\\Downloads\\chromedriver_win32\\chromedriver.exe\")"
   ]
  },
  {
   "cell_type": "code",
   "execution_count": 32,
   "id": "d95c999d",
   "metadata": {},
   "outputs": [],
   "source": [
    "driver.get('https://www.hostelworld.com/')"
   ]
  },
  {
   "cell_type": "code",
   "execution_count": 35,
   "id": "68e4842e",
   "metadata": {},
   "outputs": [
    {
     "name": "stderr",
     "output_type": "stream",
     "text": [
      "<ipython-input-35-75e196618cfd>:1: DeprecationWarning: find_element_by_* commands are deprecated. Please use find_element() instead\n",
      "  search_loc=driver.find_element_by_xpath('//html/body/div[3]/div/div/div[1]/div[1]/div/div[2]/div[3]/div/div[2]/div/div[1]/div/div/div/input')\n"
     ]
    }
   ],
   "source": [
    "search_loc=driver.find_element_by_xpath('//html/body/div[3]/div/div/div[1]/div[1]/div/div[2]/div[3]/div/div[2]/div/div[1]/div/div/div/input')\n",
    "search_loc.send_keys('london')"
   ]
  },
  {
   "cell_type": "code",
   "execution_count": 36,
   "id": "99f3e95d",
   "metadata": {},
   "outputs": [
    {
     "name": "stderr",
     "output_type": "stream",
     "text": [
      "<ipython-input-36-eced9ddfa4a4>:1: DeprecationWarning: find_element_by_* commands are deprecated. Please use find_element() instead\n",
      "  search=driver.find_element_by_xpath(\"//div[@class='label']\")\n"
     ]
    }
   ],
   "source": [
    "search=driver.find_element_by_xpath(\"//div[@class='label']\")\n",
    "search.click()"
   ]
  },
  {
   "cell_type": "code",
   "execution_count": 37,
   "id": "6b51a1b9",
   "metadata": {},
   "outputs": [
    {
     "name": "stderr",
     "output_type": "stream",
     "text": [
      "<ipython-input-37-170d4b4ba123>:1: DeprecationWarning: find_element_by_* commands are deprecated. Please use find_element() instead\n",
      "  search=driver.find_element_by_xpath(\"//div[@class='search-button']\")\n"
     ]
    }
   ],
   "source": [
    "search=driver.find_element_by_xpath(\"//div[@class='search-button']\")\n",
    "search.click()"
   ]
  },
  {
   "cell_type": "code",
   "execution_count": 38,
   "id": "5a5a34f2",
   "metadata": {},
   "outputs": [],
   "source": [
    "ulrs=('https://www.hostelworld.com/s?q=London,%20England&country=England&city=London&type=city&id=3&from=2021-10-25&to=2021-10-28&guests=2&page=1')"
   ]
  },
  {
   "cell_type": "code",
   "execution_count": 39,
   "id": "8b4c96f6",
   "metadata": {},
   "outputs": [],
   "source": [
    "driver.get(ulrs)"
   ]
  },
  {
   "cell_type": "code",
   "execution_count": 40,
   "id": "cd91d43e",
   "metadata": {},
   "outputs": [],
   "source": [
    "hostel_name=[]\n",
    "distance_from_city_centre=[]\n",
    "rating_total_reviews=[]\n",
    "privates_from_price=[]\n",
    "facilities_and_property_description=[]"
   ]
  },
  {
   "cell_type": "code",
   "execution_count": 41,
   "id": "5fc1a8ed",
   "metadata": {},
   "outputs": [
    {
     "name": "stderr",
     "output_type": "stream",
     "text": [
      "<ipython-input-41-13d541a3f9b7>:1: DeprecationWarning: find_elements_by_* commands are deprecated. Please use find_elements() instead\n",
      "  hostel_names=driver.find_elements_by_xpath(\"//h2[@class='title title-6']\")\n"
     ]
    },
    {
     "data": {
      "text/plain": [
       "[<selenium.webdriver.remote.webelement.WebElement (session=\"5a00d375d6143cb443796ab49ebbfa37\", element=\"2ea6f30f-23fb-4181-a68b-57c3feec1fa3\")>,\n",
       " <selenium.webdriver.remote.webelement.WebElement (session=\"5a00d375d6143cb443796ab49ebbfa37\", element=\"24152975-6695-4959-b639-c8e89e628793\")>,\n",
       " <selenium.webdriver.remote.webelement.WebElement (session=\"5a00d375d6143cb443796ab49ebbfa37\", element=\"3c166d96-b282-48c6-a4ef-d19e36e3115a\")>,\n",
       " <selenium.webdriver.remote.webelement.WebElement (session=\"5a00d375d6143cb443796ab49ebbfa37\", element=\"5b5018d6-7e4b-4004-b506-738c98aab982\")>,\n",
       " <selenium.webdriver.remote.webelement.WebElement (session=\"5a00d375d6143cb443796ab49ebbfa37\", element=\"b1e25081-0e5a-491b-8209-fe2f6947a15e\")>,\n",
       " <selenium.webdriver.remote.webelement.WebElement (session=\"5a00d375d6143cb443796ab49ebbfa37\", element=\"483f6a57-dc55-493d-8013-669c973c8ccc\")>]"
      ]
     },
     "execution_count": 41,
     "metadata": {},
     "output_type": "execute_result"
    }
   ],
   "source": [
    "hostel_names=driver.find_elements_by_xpath(\"//h2[@class='title title-6']\")\n",
    "hostel_names[0:6]"
   ]
  },
  {
   "cell_type": "code",
   "execution_count": 42,
   "id": "14a4714e",
   "metadata": {},
   "outputs": [
    {
     "data": {
      "text/plain": [
       "[\"Wombat's The City Hostel London\",\n",
       " 'Selina Camden',\n",
       " 'London Backpackers',\n",
       " \"St Christopher's Village\",\n",
       " 'Safestay London Elephant & Castle',\n",
       " 'No.8 Willesden Hostel London']"
      ]
     },
     "execution_count": 42,
     "metadata": {},
     "output_type": "execute_result"
    }
   ],
   "source": [
    "for i in hostel_names:\n",
    "    hostel_name.append(i.text)\n",
    "hostel_name[0:6]    "
   ]
  },
  {
   "cell_type": "code",
   "execution_count": 43,
   "id": "1b1259a5",
   "metadata": {},
   "outputs": [
    {
     "name": "stderr",
     "output_type": "stream",
     "text": [
      "<ipython-input-43-92711add0779>:1: DeprecationWarning: find_elements_by_* commands are deprecated. Please use find_elements() instead\n",
      "  distance_from_city_centres=driver.find_elements_by_xpath(\"//div[@class='subtitle body-3']\")\n"
     ]
    },
    {
     "data": {
      "text/plain": [
       "[<selenium.webdriver.remote.webelement.WebElement (session=\"5a00d375d6143cb443796ab49ebbfa37\", element=\"ce2825f5-b2c6-4062-98b1-1417a5475d92\")>,\n",
       " <selenium.webdriver.remote.webelement.WebElement (session=\"5a00d375d6143cb443796ab49ebbfa37\", element=\"4f4f72e0-9ff5-4b23-81ec-0f1e9ce655a8\")>,\n",
       " <selenium.webdriver.remote.webelement.WebElement (session=\"5a00d375d6143cb443796ab49ebbfa37\", element=\"61988201-fc06-44dd-83d8-34c08cd46dcd\")>,\n",
       " <selenium.webdriver.remote.webelement.WebElement (session=\"5a00d375d6143cb443796ab49ebbfa37\", element=\"e88c5dcf-c8b8-4137-9504-8a8c3a30c180\")>,\n",
       " <selenium.webdriver.remote.webelement.WebElement (session=\"5a00d375d6143cb443796ab49ebbfa37\", element=\"bcc405d3-e05c-40d4-a2ce-623665b6174c\")>,\n",
       " <selenium.webdriver.remote.webelement.WebElement (session=\"5a00d375d6143cb443796ab49ebbfa37\", element=\"b847f1e7-e3f8-41ff-9eba-93d2e00917aa\")>]"
      ]
     },
     "execution_count": 43,
     "metadata": {},
     "output_type": "execute_result"
    }
   ],
   "source": [
    "distance_from_city_centres=driver.find_elements_by_xpath(\"//div[@class='subtitle body-3']\")\n",
    "distance_from_city_centres[0:6]"
   ]
  },
  {
   "cell_type": "code",
   "execution_count": 44,
   "id": "1982c6c5",
   "metadata": {},
   "outputs": [
    {
     "data": {
      "text/plain": [
       "['Hostel - 3.6km from city centre',\n",
       " 'Hostel - 5.5km from city centre',\n",
       " 'Hostel - 11.9km from city centre',\n",
       " 'Hostel - 3.6km from city centre Show on Map',\n",
       " 'Hostel - 5.5km from city centre Show on Map',\n",
       " 'Hostel - 11.9km from city centre Show on Map',\n",
       " 'Hostel - 1.8km from city centre Show on Map',\n",
       " 'Hostel - 1.7km from city centre Show on Map',\n",
       " 'Hostel - 10km from city centre Show on Map',\n",
       " 'Hostel - 5.4km from city centre Show on Map',\n",
       " 'Hostel - 3.2km from city centre Show on Map',\n",
       " 'Hostel - 3km from city centre Show on Map',\n",
       " 'Hostel - 4.4km from city centre Show on Map',\n",
       " 'Hostel - 2.3km from city centre Show on Map',\n",
       " 'Hostel - 9km from city centre Show on Map',\n",
       " 'Hostel - 5km from city centre Show on Map',\n",
       " 'Hostel - 2.6km from city centre Show on Map',\n",
       " 'Hostel - 5.9km from city centre Show on Map',\n",
       " 'Hostel - 5km from city centre Show on Map',\n",
       " 'Hostel - 5.5km from city centre Show on Map',\n",
       " 'Hostel - 3.6km from city centre Show on Map',\n",
       " 'Hostel - 4.2km from city centre Show on Map',\n",
       " 'Hostel - 1.8km from city centre Show on Map',\n",
       " 'Hostel - 6.1km from city centre Show on Map',\n",
       " 'Hostel - 4.1km from city centre Show on Map',\n",
       " 'Hostel - 1.3km from city centre Show on Map',\n",
       " 'Hostel - 2.4km from city centre Show on Map',\n",
       " 'Hostel - 3.2km from city centre Show on Map',\n",
       " 'Hostel - 7km from city centre Show on Map',\n",
       " 'Hostel - 2.9km from city centre Show on Map',\n",
       " 'Hostel - 0.5km from city centre Show on Map',\n",
       " 'Hostel - 3.3km from city centre Show on Map',\n",
       " 'Hostel - 7.3km from city centre Show on Map']"
      ]
     },
     "execution_count": 44,
     "metadata": {},
     "output_type": "execute_result"
    }
   ],
   "source": [
    "for i in distance_from_city_centres:\n",
    "    distance_from_city_centre.append(i.text)\n",
    "distance_from_city_centre   "
   ]
  },
  {
   "cell_type": "code",
   "execution_count": 45,
   "id": "6228d9e4",
   "metadata": {},
   "outputs": [
    {
     "name": "stderr",
     "output_type": "stream",
     "text": [
      "<ipython-input-45-619632d68edd>:1: DeprecationWarning: find_elements_by_* commands are deprecated. Please use find_elements() instead\n",
      "  ratings=driver.find_elements_by_xpath(\"//div[@class='rating rating-summary-container big']\")\n"
     ]
    },
    {
     "data": {
      "text/plain": [
       "[<selenium.webdriver.remote.webelement.WebElement (session=\"5a00d375d6143cb443796ab49ebbfa37\", element=\"68ad2994-cf4d-4c3c-80d5-f02b5b791f05\")>,\n",
       " <selenium.webdriver.remote.webelement.WebElement (session=\"5a00d375d6143cb443796ab49ebbfa37\", element=\"6e9575a4-efde-4747-8419-5a6ddf757c80\")>,\n",
       " <selenium.webdriver.remote.webelement.WebElement (session=\"5a00d375d6143cb443796ab49ebbfa37\", element=\"5ac46f32-f94f-4ac5-bd32-c4b46aecf6a6\")>,\n",
       " <selenium.webdriver.remote.webelement.WebElement (session=\"5a00d375d6143cb443796ab49ebbfa37\", element=\"6c5719b1-a10c-4fa0-93e0-8f0b6ff720fb\")>,\n",
       " <selenium.webdriver.remote.webelement.WebElement (session=\"5a00d375d6143cb443796ab49ebbfa37\", element=\"ab4bf3b7-adb8-4d55-af78-33ff306d9e21\")>,\n",
       " <selenium.webdriver.remote.webelement.WebElement (session=\"5a00d375d6143cb443796ab49ebbfa37\", element=\"2547837f-aa6d-410b-89fa-3edf3abe6f30\")>]"
      ]
     },
     "execution_count": 45,
     "metadata": {},
     "output_type": "execute_result"
    }
   ],
   "source": [
    "ratings=driver.find_elements_by_xpath(\"//div[@class='rating rating-summary-container big']\")\n",
    "ratings[0:6]"
   ]
  },
  {
   "cell_type": "code",
   "execution_count": 46,
   "id": "bb13f802",
   "metadata": {},
   "outputs": [
    {
     "data": {
      "text/plain": [
       "['8.7\\nFabulous\\n13322 Total Reviews',\n",
       " '9.1\\nSuperb\\n13 Total Reviews',\n",
       " '8.5\\nFabulous\\n4157 Total Reviews',\n",
       " '8.1\\nFabulous\\n10941 Total Reviews',\n",
       " '7.8\\nVery Good\\n4007 Total Reviews',\n",
       " '8.0\\nFabulous\\n4615 Total Reviews',\n",
       " '9.6\\nSuperb\\n172 Total Reviews',\n",
       " '6.8\\nGood\\n3199 Total Reviews',\n",
       " '7.6\\nVery Good\\n6779 Total Reviews',\n",
       " '8.4\\nFabulous\\n2722 Total Reviews',\n",
       " '8.9\\nFabulous\\n2260 Total Reviews',\n",
       " '6.5\\nGood\\n3666 Total Reviews',\n",
       " '7.7\\nVery Good\\n4509 Total Reviews',\n",
       " '6.6\\nGood\\n9550 Total Reviews',\n",
       " '8.1\\nFabulous\\n1104 Total Reviews',\n",
       " '7.0\\nVery Good\\n6256 Total Reviews',\n",
       " '9.3\\nSuperb\\n1681 Total Reviews',\n",
       " '9.3\\nSuperb\\n526 Total Reviews',\n",
       " '7.8\\nVery Good\\n3463 Total Reviews',\n",
       " '8.3\\nFabulous\\n3247 Total Reviews',\n",
       " '7.2\\nVery Good\\n1036 Total Reviews',\n",
       " '7.8\\nVery Good\\n21 Total Reviews',\n",
       " '7.7\\nVery Good\\n798 Total Reviews',\n",
       " '8.5\\nFabulous\\n176 Total Reviews',\n",
       " '8.6\\nFabulous\\n369 Total Reviews',\n",
       " '8.5\\nFabulous\\n636 Total Reviews',\n",
       " '9.1\\nSuperb\\n4705 Total Reviews',\n",
       " '7.9\\nVery Good\\n222 Total Reviews',\n",
       " '9.3\\nSuperb\\n2791 Total Reviews',\n",
       " '7.1\\nVery Good\\n3674 Total Reviews']"
      ]
     },
     "execution_count": 46,
     "metadata": {},
     "output_type": "execute_result"
    }
   ],
   "source": [
    "for i in ratings:\n",
    "    rating_total_reviews.append(i.text)\n",
    "rating_total_reviews   "
   ]
  },
  {
   "cell_type": "code",
   "execution_count": 47,
   "id": "edac2337",
   "metadata": {},
   "outputs": [
    {
     "name": "stderr",
     "output_type": "stream",
     "text": [
      "<ipython-input-47-747331681e9d>:1: DeprecationWarning: find_elements_by_* commands are deprecated. Please use find_elements() instead\n",
      "  privates_from_prices=driver.find_elements_by_xpath(\"//div[@class='price-col']\")\n"
     ]
    },
    {
     "data": {
      "text/plain": [
       "[<selenium.webdriver.remote.webelement.WebElement (session=\"5a00d375d6143cb443796ab49ebbfa37\", element=\"17bbdc46-47df-4656-a843-f4382622e393\")>,\n",
       " <selenium.webdriver.remote.webelement.WebElement (session=\"5a00d375d6143cb443796ab49ebbfa37\", element=\"f37bfc5d-f5c4-4742-a0f4-d75beb1b155d\")>,\n",
       " <selenium.webdriver.remote.webelement.WebElement (session=\"5a00d375d6143cb443796ab49ebbfa37\", element=\"248337c1-3e7a-4579-807b-61e581604f94\")>,\n",
       " <selenium.webdriver.remote.webelement.WebElement (session=\"5a00d375d6143cb443796ab49ebbfa37\", element=\"3a53700c-9872-4ca1-a89e-72bc49696afc\")>,\n",
       " <selenium.webdriver.remote.webelement.WebElement (session=\"5a00d375d6143cb443796ab49ebbfa37\", element=\"c95b22b7-d499-41ec-9cb9-f4839a960160\")>,\n",
       " <selenium.webdriver.remote.webelement.WebElement (session=\"5a00d375d6143cb443796ab49ebbfa37\", element=\"df29aa54-edbd-4c35-8dfa-08de7121b8b2\")>]"
      ]
     },
     "execution_count": 47,
     "metadata": {},
     "output_type": "execute_result"
    }
   ],
   "source": [
    "privates_from_prices=driver.find_elements_by_xpath(\"//div[@class='price-col']\")\n",
    "privates_from_prices[0:6]"
   ]
  },
  {
   "cell_type": "code",
   "execution_count": 48,
   "id": "70f986cd",
   "metadata": {},
   "outputs": [
    {
     "data": {
      "text/plain": [
       "['Privates From\\nRs10753.14 Rs8925',\n",
       " 'Dorms From\\nRs2525.32 Rs1894',\n",
       " 'Privates From\\nRs22550',\n",
       " 'Dorms From\\nRs8756.75 Rs7443',\n",
       " 'Privates From\\nRs3233',\n",
       " 'Dorms From\\nRs1437',\n",
       " 'Privates From\\nRs10630.82 Rs9568',\n",
       " 'Dorms From\\nRs1163.09 Rs1047',\n",
       " 'Privates From\\nRs6287',\n",
       " 'Dorms From\\nRs1796',\n",
       " 'No Privates Available',\n",
       " 'Dorms From\\nRs943',\n",
       " 'No Privates Available',\n",
       " 'Dorms From\\nRs1796',\n",
       " 'Privates From\\nRs5241',\n",
       " 'Dorms From\\nRs1272',\n",
       " 'Privates From\\nRs7883',\n",
       " 'Dorms From\\nRs1706',\n",
       " 'Privates From\\nRs6327',\n",
       " 'Dorms From\\nRs1298',\n",
       " 'Privates From\\nRs4989',\n",
       " 'No Dorms Available',\n",
       " 'No Privates Available',\n",
       " 'Dorms From\\nRs943',\n",
       " 'Privates From\\nRs9113',\n",
       " 'Dorms From\\nRs1208',\n",
       " 'Privates From\\nRs6327',\n",
       " 'Dorms From\\nRs1208',\n",
       " 'Privates From\\nRs6736',\n",
       " 'Dorms From\\nRs1796',\n",
       " 'Privates From\\nRs6077',\n",
       " 'Dorms From\\nRs1342',\n",
       " 'Privates From\\nRs5987',\n",
       " 'Dorms From\\nRs1996',\n",
       " 'Privates From\\nRs6129',\n",
       " 'Dorms From\\nRs2270',\n",
       " 'Privates From\\nRs4433.77 Rs4212',\n",
       " 'Dorms From\\nRs1284.65 Rs1220',\n",
       " 'No Privates Available',\n",
       " 'Dorms From\\nRs1372.64 Rs1235',\n",
       " 'Privates From\\nRs3412.78 Rs3072',\n",
       " 'Dorms From\\nRs1222.97 Rs1101',\n",
       " 'Privates From\\nRs4690',\n",
       " 'Dorms From\\nRs1098',\n",
       " 'Privates From\\nRs6466',\n",
       " 'Dorms From\\nRs2245',\n",
       " 'Privates From\\nRs7185',\n",
       " 'Dorms From\\nRs1597',\n",
       " 'Privates From\\nRs7089.43 Rs6380',\n",
       " 'Dorms From\\nRs1761.82 Rs1586',\n",
       " 'Privates From\\nRs5317.63 Rs4786',\n",
       " 'Dorms From\\nRs1163.09 Rs1047',\n",
       " 'Privates From\\nRs7883',\n",
       " 'No Dorms Available',\n",
       " 'Privates From\\nRs12973',\n",
       " 'Dorms From\\nRs1597',\n",
       " 'Privates From\\nRs5888',\n",
       " 'No Dorms Available',\n",
       " 'Privates From\\nRs3493',\n",
       " 'Dorms From\\nRs1597']"
      ]
     },
     "execution_count": 48,
     "metadata": {},
     "output_type": "execute_result"
    }
   ],
   "source": [
    "for i in privates_from_prices:\n",
    "    privates_from_price.append(i.text)\n",
    "privates_from_price  "
   ]
  },
  {
   "cell_type": "code",
   "execution_count": 49,
   "id": "b68640da",
   "metadata": {},
   "outputs": [
    {
     "data": {
      "text/html": [
       "<div>\n",
       "<style scoped>\n",
       "    .dataframe tbody tr th:only-of-type {\n",
       "        vertical-align: middle;\n",
       "    }\n",
       "\n",
       "    .dataframe tbody tr th {\n",
       "        vertical-align: top;\n",
       "    }\n",
       "\n",
       "    .dataframe thead th {\n",
       "        text-align: right;\n",
       "    }\n",
       "</style>\n",
       "<table border=\"1\" class=\"dataframe\">\n",
       "  <thead>\n",
       "    <tr style=\"text-align: right;\">\n",
       "      <th></th>\n",
       "      <th>hostel_name</th>\n",
       "      <th>distance_from_city_centre</th>\n",
       "      <th>rating_total_reviews</th>\n",
       "      <th>privates_from_price</th>\n",
       "    </tr>\n",
       "  </thead>\n",
       "  <tbody>\n",
       "    <tr>\n",
       "      <th>0</th>\n",
       "      <td>Wombat's The City Hostel London</td>\n",
       "      <td>Hostel - 3.6km from city centre</td>\n",
       "      <td>8.7\\nFabulous\\n13322 Total Reviews</td>\n",
       "      <td>Privates From\\nRs10753.14 Rs8925</td>\n",
       "    </tr>\n",
       "    <tr>\n",
       "      <th>1</th>\n",
       "      <td>Selina Camden</td>\n",
       "      <td>Hostel - 5.5km from city centre</td>\n",
       "      <td>9.1\\nSuperb\\n13 Total Reviews</td>\n",
       "      <td>Dorms From\\nRs2525.32 Rs1894</td>\n",
       "    </tr>\n",
       "    <tr>\n",
       "      <th>2</th>\n",
       "      <td>London Backpackers</td>\n",
       "      <td>Hostel - 11.9km from city centre</td>\n",
       "      <td>8.5\\nFabulous\\n4157 Total Reviews</td>\n",
       "      <td>Privates From\\nRs22550</td>\n",
       "    </tr>\n",
       "    <tr>\n",
       "      <th>3</th>\n",
       "      <td>St Christopher's Village</td>\n",
       "      <td>Hostel - 3.6km from city centre Show on Map</td>\n",
       "      <td>8.1\\nFabulous\\n10941 Total Reviews</td>\n",
       "      <td>Dorms From\\nRs8756.75 Rs7443</td>\n",
       "    </tr>\n",
       "    <tr>\n",
       "      <th>4</th>\n",
       "      <td>Safestay London Elephant &amp; Castle</td>\n",
       "      <td>Hostel - 5.5km from city centre Show on Map</td>\n",
       "      <td>7.8\\nVery Good\\n4007 Total Reviews</td>\n",
       "      <td>Privates From\\nRs3233</td>\n",
       "    </tr>\n",
       "    <tr>\n",
       "      <th>5</th>\n",
       "      <td>No.8 Willesden Hostel London</td>\n",
       "      <td>Hostel - 11.9km from city centre Show on Map</td>\n",
       "      <td>8.0\\nFabulous\\n4615 Total Reviews</td>\n",
       "      <td>Dorms From\\nRs1437</td>\n",
       "    </tr>\n",
       "    <tr>\n",
       "      <th>6</th>\n",
       "      <td>Urbany Hostel London</td>\n",
       "      <td>Hostel - 1.8km from city centre Show on Map</td>\n",
       "      <td>9.6\\nSuperb\\n172 Total Reviews</td>\n",
       "      <td>Privates From\\nRs10630.82 Rs9568</td>\n",
       "    </tr>\n",
       "    <tr>\n",
       "      <th>7</th>\n",
       "      <td>Clink261</td>\n",
       "      <td>Hostel - 1.7km from city centre Show on Map</td>\n",
       "      <td>6.8\\nGood\\n3199 Total Reviews</td>\n",
       "      <td>Dorms From\\nRs1163.09 Rs1047</td>\n",
       "    </tr>\n",
       "    <tr>\n",
       "      <th>8</th>\n",
       "      <td>Generator London</td>\n",
       "      <td>Hostel - 10km from city centre Show on Map</td>\n",
       "      <td>7.6\\nVery Good\\n6779 Total Reviews</td>\n",
       "      <td>Privates From\\nRs6287</td>\n",
       "    </tr>\n",
       "    <tr>\n",
       "      <th>9</th>\n",
       "      <td>Smart Camden Inn Hostel</td>\n",
       "      <td>Hostel - 5.4km from city centre Show on Map</td>\n",
       "      <td>8.4\\nFabulous\\n2722 Total Reviews</td>\n",
       "      <td>Dorms From\\nRs1796</td>\n",
       "    </tr>\n",
       "    <tr>\n",
       "      <th>10</th>\n",
       "      <td>Pickwick Hall</td>\n",
       "      <td>Hostel - 3.2km from city centre Show on Map</td>\n",
       "      <td>8.9\\nFabulous\\n2260 Total Reviews</td>\n",
       "      <td>No Privates Available</td>\n",
       "    </tr>\n",
       "    <tr>\n",
       "      <th>11</th>\n",
       "      <td>No.8 Seven Sisters</td>\n",
       "      <td>Hostel - 3km from city centre Show on Map</td>\n",
       "      <td>6.5\\nGood\\n3666 Total Reviews</td>\n",
       "      <td>Dorms From\\nRs943</td>\n",
       "    </tr>\n",
       "    <tr>\n",
       "      <th>12</th>\n",
       "      <td>Smart Hyde Park View Hostel</td>\n",
       "      <td>Hostel - 4.4km from city centre Show on Map</td>\n",
       "      <td>7.7\\nVery Good\\n4509 Total Reviews</td>\n",
       "      <td>No Privates Available</td>\n",
       "    </tr>\n",
       "    <tr>\n",
       "      <th>13</th>\n",
       "      <td>Smart Russell Square Hostel</td>\n",
       "      <td>Hostel - 2.3km from city centre Show on Map</td>\n",
       "      <td>6.6\\nGood\\n9550 Total Reviews</td>\n",
       "      <td>Dorms From\\nRs1796</td>\n",
       "    </tr>\n",
       "    <tr>\n",
       "      <th>14</th>\n",
       "      <td>Safestay London Kensington Holland Park</td>\n",
       "      <td>Hostel - 9km from city centre Show on Map</td>\n",
       "      <td>8.1\\nFabulous\\n1104 Total Reviews</td>\n",
       "      <td>Privates From\\nRs5241</td>\n",
       "    </tr>\n",
       "    <tr>\n",
       "      <th>15</th>\n",
       "      <td>Smart Hyde Park Inn Hostel</td>\n",
       "      <td>Hostel - 5km from city centre Show on Map</td>\n",
       "      <td>7.0\\nVery Good\\n6256 Total Reviews</td>\n",
       "      <td>Dorms From\\nRs1272</td>\n",
       "    </tr>\n",
       "    <tr>\n",
       "      <th>16</th>\n",
       "      <td>Barmy Badger Backpackers</td>\n",
       "      <td>Hostel - 2.6km from city centre Show on Map</td>\n",
       "      <td>9.3\\nSuperb\\n1681 Total Reviews</td>\n",
       "      <td>Privates From\\nRs7883</td>\n",
       "    </tr>\n",
       "    <tr>\n",
       "      <th>17</th>\n",
       "      <td>Prime Backpackers Angel</td>\n",
       "      <td>Hostel - 5.9km from city centre Show on Map</td>\n",
       "      <td>9.3\\nSuperb\\n526 Total Reviews</td>\n",
       "      <td>Dorms From\\nRs1706</td>\n",
       "    </tr>\n",
       "    <tr>\n",
       "      <th>18</th>\n",
       "      <td>Phoenix Hostel</td>\n",
       "      <td>Hostel - 5km from city centre Show on Map</td>\n",
       "      <td>7.8\\nVery Good\\n3463 Total Reviews</td>\n",
       "      <td>Privates From\\nRs6327</td>\n",
       "    </tr>\n",
       "    <tr>\n",
       "      <th>19</th>\n",
       "      <td>St Christopher's Inn - London Bridge</td>\n",
       "      <td>Hostel - 5.5km from city centre Show on Map</td>\n",
       "      <td>8.3\\nFabulous\\n3247 Total Reviews</td>\n",
       "      <td>Dorms From\\nRs1298</td>\n",
       "    </tr>\n",
       "    <tr>\n",
       "      <th>20</th>\n",
       "      <td>New Cross Inn Hostel</td>\n",
       "      <td>Hostel - 3.6km from city centre Show on Map</td>\n",
       "      <td>7.2\\nVery Good\\n1036 Total Reviews</td>\n",
       "      <td>Privates From\\nRs4989</td>\n",
       "    </tr>\n",
       "    <tr>\n",
       "      <th>21</th>\n",
       "      <td>The Dictionary Hostel</td>\n",
       "      <td>Hostel - 4.2km from city centre Show on Map</td>\n",
       "      <td>7.8\\nVery Good\\n21 Total Reviews</td>\n",
       "      <td>No Dorms Available</td>\n",
       "    </tr>\n",
       "    <tr>\n",
       "      <th>22</th>\n",
       "      <td>Strand Continental</td>\n",
       "      <td>Hostel - 1.8km from city centre Show on Map</td>\n",
       "      <td>7.7\\nVery Good\\n798 Total Reviews</td>\n",
       "      <td>No Privates Available</td>\n",
       "    </tr>\n",
       "    <tr>\n",
       "      <th>23</th>\n",
       "      <td>PubLove @ The White Ferry, Victoria</td>\n",
       "      <td>Hostel - 6.1km from city centre Show on Map</td>\n",
       "      <td>8.5\\nFabulous\\n176 Total Reviews</td>\n",
       "      <td>Dorms From\\nRs943</td>\n",
       "    </tr>\n",
       "    <tr>\n",
       "      <th>24</th>\n",
       "      <td>St Christopher's Inn - Liverpool Street</td>\n",
       "      <td>Hostel - 4.1km from city centre Show on Map</td>\n",
       "      <td>8.6\\nFabulous\\n369 Total Reviews</td>\n",
       "      <td>Privates From\\nRs9113</td>\n",
       "    </tr>\n",
       "    <tr>\n",
       "      <th>25</th>\n",
       "      <td>St Christopher's Shepherds Bush</td>\n",
       "      <td>Hostel - 1.3km from city centre Show on Map</td>\n",
       "      <td>8.5\\nFabulous\\n636 Total Reviews</td>\n",
       "      <td>Dorms From\\nRs1208</td>\n",
       "    </tr>\n",
       "    <tr>\n",
       "      <th>26</th>\n",
       "      <td>YHA London Central</td>\n",
       "      <td>Hostel - 2.4km from city centre Show on Map</td>\n",
       "      <td>9.1\\nSuperb\\n4705 Total Reviews</td>\n",
       "      <td>Privates From\\nRs6327</td>\n",
       "    </tr>\n",
       "    <tr>\n",
       "      <th>27</th>\n",
       "      <td>PubLove @ The Steam Engine, Waterloo</td>\n",
       "      <td>Hostel - 3.2km from city centre Show on Map</td>\n",
       "      <td>7.9\\nVery Good\\n222 Total Reviews</td>\n",
       "      <td>Dorms From\\nRs1208</td>\n",
       "    </tr>\n",
       "    <tr>\n",
       "      <th>28</th>\n",
       "      <td>YHA London St Pancras</td>\n",
       "      <td>Hostel - 7km from city centre Show on Map</td>\n",
       "      <td>9.3\\nSuperb\\n2791 Total Reviews</td>\n",
       "      <td>Privates From\\nRs6736</td>\n",
       "    </tr>\n",
       "    <tr>\n",
       "      <th>29</th>\n",
       "      <td>Abercorn House</td>\n",
       "      <td>Hostel - 2.9km from city centre Show on Map</td>\n",
       "      <td>7.1\\nVery Good\\n3674 Total Reviews</td>\n",
       "      <td>Dorms From\\nRs1796</td>\n",
       "    </tr>\n",
       "  </tbody>\n",
       "</table>\n",
       "</div>"
      ],
      "text/plain": [
       "                                hostel_name  \\\n",
       "0           Wombat's The City Hostel London   \n",
       "1                             Selina Camden   \n",
       "2                        London Backpackers   \n",
       "3                  St Christopher's Village   \n",
       "4         Safestay London Elephant & Castle   \n",
       "5              No.8 Willesden Hostel London   \n",
       "6                      Urbany Hostel London   \n",
       "7                                  Clink261   \n",
       "8                          Generator London   \n",
       "9                   Smart Camden Inn Hostel   \n",
       "10                            Pickwick Hall   \n",
       "11                       No.8 Seven Sisters   \n",
       "12              Smart Hyde Park View Hostel   \n",
       "13              Smart Russell Square Hostel   \n",
       "14  Safestay London Kensington Holland Park   \n",
       "15               Smart Hyde Park Inn Hostel   \n",
       "16                 Barmy Badger Backpackers   \n",
       "17                  Prime Backpackers Angel   \n",
       "18                           Phoenix Hostel   \n",
       "19     St Christopher's Inn - London Bridge   \n",
       "20                     New Cross Inn Hostel   \n",
       "21                    The Dictionary Hostel   \n",
       "22                       Strand Continental   \n",
       "23      PubLove @ The White Ferry, Victoria   \n",
       "24  St Christopher's Inn - Liverpool Street   \n",
       "25          St Christopher's Shepherds Bush   \n",
       "26                       YHA London Central   \n",
       "27     PubLove @ The Steam Engine, Waterloo   \n",
       "28                    YHA London St Pancras   \n",
       "29                           Abercorn House   \n",
       "\n",
       "                       distance_from_city_centre  \\\n",
       "0                Hostel - 3.6km from city centre   \n",
       "1                Hostel - 5.5km from city centre   \n",
       "2               Hostel - 11.9km from city centre   \n",
       "3    Hostel - 3.6km from city centre Show on Map   \n",
       "4    Hostel - 5.5km from city centre Show on Map   \n",
       "5   Hostel - 11.9km from city centre Show on Map   \n",
       "6    Hostel - 1.8km from city centre Show on Map   \n",
       "7    Hostel - 1.7km from city centre Show on Map   \n",
       "8     Hostel - 10km from city centre Show on Map   \n",
       "9    Hostel - 5.4km from city centre Show on Map   \n",
       "10   Hostel - 3.2km from city centre Show on Map   \n",
       "11     Hostel - 3km from city centre Show on Map   \n",
       "12   Hostel - 4.4km from city centre Show on Map   \n",
       "13   Hostel - 2.3km from city centre Show on Map   \n",
       "14     Hostel - 9km from city centre Show on Map   \n",
       "15     Hostel - 5km from city centre Show on Map   \n",
       "16   Hostel - 2.6km from city centre Show on Map   \n",
       "17   Hostel - 5.9km from city centre Show on Map   \n",
       "18     Hostel - 5km from city centre Show on Map   \n",
       "19   Hostel - 5.5km from city centre Show on Map   \n",
       "20   Hostel - 3.6km from city centre Show on Map   \n",
       "21   Hostel - 4.2km from city centre Show on Map   \n",
       "22   Hostel - 1.8km from city centre Show on Map   \n",
       "23   Hostel - 6.1km from city centre Show on Map   \n",
       "24   Hostel - 4.1km from city centre Show on Map   \n",
       "25   Hostel - 1.3km from city centre Show on Map   \n",
       "26   Hostel - 2.4km from city centre Show on Map   \n",
       "27   Hostel - 3.2km from city centre Show on Map   \n",
       "28     Hostel - 7km from city centre Show on Map   \n",
       "29   Hostel - 2.9km from city centre Show on Map   \n",
       "\n",
       "                  rating_total_reviews               privates_from_price  \n",
       "0   8.7\\nFabulous\\n13322 Total Reviews  Privates From\\nRs10753.14 Rs8925  \n",
       "1        9.1\\nSuperb\\n13 Total Reviews      Dorms From\\nRs2525.32 Rs1894  \n",
       "2    8.5\\nFabulous\\n4157 Total Reviews            Privates From\\nRs22550  \n",
       "3   8.1\\nFabulous\\n10941 Total Reviews      Dorms From\\nRs8756.75 Rs7443  \n",
       "4   7.8\\nVery Good\\n4007 Total Reviews             Privates From\\nRs3233  \n",
       "5    8.0\\nFabulous\\n4615 Total Reviews                Dorms From\\nRs1437  \n",
       "6       9.6\\nSuperb\\n172 Total Reviews  Privates From\\nRs10630.82 Rs9568  \n",
       "7        6.8\\nGood\\n3199 Total Reviews      Dorms From\\nRs1163.09 Rs1047  \n",
       "8   7.6\\nVery Good\\n6779 Total Reviews             Privates From\\nRs6287  \n",
       "9    8.4\\nFabulous\\n2722 Total Reviews                Dorms From\\nRs1796  \n",
       "10   8.9\\nFabulous\\n2260 Total Reviews             No Privates Available  \n",
       "11       6.5\\nGood\\n3666 Total Reviews                 Dorms From\\nRs943  \n",
       "12  7.7\\nVery Good\\n4509 Total Reviews             No Privates Available  \n",
       "13       6.6\\nGood\\n9550 Total Reviews                Dorms From\\nRs1796  \n",
       "14   8.1\\nFabulous\\n1104 Total Reviews             Privates From\\nRs5241  \n",
       "15  7.0\\nVery Good\\n6256 Total Reviews                Dorms From\\nRs1272  \n",
       "16     9.3\\nSuperb\\n1681 Total Reviews             Privates From\\nRs7883  \n",
       "17      9.3\\nSuperb\\n526 Total Reviews                Dorms From\\nRs1706  \n",
       "18  7.8\\nVery Good\\n3463 Total Reviews             Privates From\\nRs6327  \n",
       "19   8.3\\nFabulous\\n3247 Total Reviews                Dorms From\\nRs1298  \n",
       "20  7.2\\nVery Good\\n1036 Total Reviews             Privates From\\nRs4989  \n",
       "21    7.8\\nVery Good\\n21 Total Reviews                No Dorms Available  \n",
       "22   7.7\\nVery Good\\n798 Total Reviews             No Privates Available  \n",
       "23    8.5\\nFabulous\\n176 Total Reviews                 Dorms From\\nRs943  \n",
       "24    8.6\\nFabulous\\n369 Total Reviews             Privates From\\nRs9113  \n",
       "25    8.5\\nFabulous\\n636 Total Reviews                Dorms From\\nRs1208  \n",
       "26     9.1\\nSuperb\\n4705 Total Reviews             Privates From\\nRs6327  \n",
       "27   7.9\\nVery Good\\n222 Total Reviews                Dorms From\\nRs1208  \n",
       "28     9.3\\nSuperb\\n2791 Total Reviews             Privates From\\nRs6736  \n",
       "29  7.1\\nVery Good\\n3674 Total Reviews                Dorms From\\nRs1796  "
      ]
     },
     "execution_count": 49,
     "metadata": {},
     "output_type": "execute_result"
    }
   ],
   "source": [
    "hotel=pd.DataFrame({})\n",
    "hotel['hostel_name']=hostel_name\n",
    "hotel['distance_from_city_centre']=distance_from_city_centre[0:30]\n",
    "hotel['rating_total_reviews']=rating_total_reviews\n",
    "hotel['privates_from_price']=privates_from_price[0:30]\n",
    "hotel"
   ]
  },
  {
   "cell_type": "code",
   "execution_count": null,
   "id": "0d8b21de",
   "metadata": {},
   "outputs": [],
   "source": []
  }
 ],
 "metadata": {
  "kernelspec": {
   "display_name": "Python 3",
   "language": "python",
   "name": "python3"
  },
  "language_info": {
   "codemirror_mode": {
    "name": "ipython",
    "version": 3
   },
   "file_extension": ".py",
   "mimetype": "text/x-python",
   "name": "python",
   "nbconvert_exporter": "python",
   "pygments_lexer": "ipython3",
   "version": "3.8.8"
  }
 },
 "nbformat": 4,
 "nbformat_minor": 5
}
