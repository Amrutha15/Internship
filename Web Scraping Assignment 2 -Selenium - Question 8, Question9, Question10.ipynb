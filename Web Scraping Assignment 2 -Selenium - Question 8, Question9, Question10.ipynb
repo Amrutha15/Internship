{
 "cells": [
  {
   "cell_type": "code",
   "execution_count": 1,
   "id": "7ff04572",
   "metadata": {},
   "outputs": [],
   "source": [
    "#question 8- Amazon-Laptop\n",
    "import selenium\n",
    "import pandas as pd\n",
    "from selenium import webdriver\n",
    "import time\n",
    "from selenium.common.exceptions import StaleElementReferenceException\n",
    "from selenium.common.exceptions import NoSuchElementException\n",
    "from selenium.webdriver.support.ui import WebDriverWait"
   ]
  },
  {
   "cell_type": "code",
   "execution_count": 2,
   "id": "f45a0cc9",
   "metadata": {},
   "outputs": [
    {
     "name": "stderr",
     "output_type": "stream",
     "text": [
      "<ipython-input-2-15202a3d05e0>:1: DeprecationWarning: executable_path has been deprecated, please pass in a Service object\n",
      "  driver = webdriver.Chrome(r\"C:\\Users\\lenovo\\Downloads\\chromedriver_win32\\chromedriver.exe\")\n"
     ]
    }
   ],
   "source": [
    "driver = webdriver.Chrome(r\"C:\\Users\\lenovo\\Downloads\\chromedriver_win32\\chromedriver.exe\")"
   ]
  },
  {
   "cell_type": "code",
   "execution_count": 3,
   "id": "e0a0b89b",
   "metadata": {},
   "outputs": [],
   "source": [
    "url='https://www.amazon.in/'\n",
    "driver.get(url)"
   ]
  },
  {
   "cell_type": "code",
   "execution_count": 4,
   "id": "e300bc02",
   "metadata": {},
   "outputs": [
    {
     "name": "stderr",
     "output_type": "stream",
     "text": [
      "<ipython-input-4-2338ed659a63>:1: DeprecationWarning: find_element_by_* commands are deprecated. Please use find_element() instead\n",
      "  search_item=driver.find_element_by_xpath('/html/body/div[1]/header/div/div[1]/div[2]/div/form/div[2]/div[1]/input')\n"
     ]
    },
    {
     "data": {
      "text/plain": [
       "<selenium.webdriver.remote.webelement.WebElement (session=\"bd35ad40086e80bd60a188c315addba7\", element=\"0c1e8df0-c1a1-4202-8454-87542b5c0c96\")>"
      ]
     },
     "execution_count": 4,
     "metadata": {},
     "output_type": "execute_result"
    }
   ],
   "source": [
    "search_item=driver.find_element_by_xpath('/html/body/div[1]/header/div/div[1]/div[2]/div/form/div[2]/div[1]/input')\n",
    "search_item"
   ]
  },
  {
   "cell_type": "code",
   "execution_count": 5,
   "id": "bf44e471",
   "metadata": {},
   "outputs": [],
   "source": [
    "search_item.send_keys('Laptop')"
   ]
  },
  {
   "cell_type": "code",
   "execution_count": 6,
   "id": "8cf8d002",
   "metadata": {},
   "outputs": [
    {
     "name": "stderr",
     "output_type": "stream",
     "text": [
      "<ipython-input-6-94916dd2da47>:1: DeprecationWarning: find_element_by_* commands are deprecated. Please use find_element() instead\n",
      "  search_btn=driver.find_element_by_xpath('/html/body/div[1]/header/div/div[1]/div[2]/div/form/div[3]/div/span/input')\n"
     ]
    }
   ],
   "source": [
    "search_btn=driver.find_element_by_xpath('/html/body/div[1]/header/div/div[1]/div[2]/div/form/div[3]/div/span/input')\n",
    "search_btn.click()"
   ]
  },
  {
   "cell_type": "code",
   "execution_count": 7,
   "id": "fd1ed2c1",
   "metadata": {},
   "outputs": [
    {
     "name": "stderr",
     "output_type": "stream",
     "text": [
      "<ipython-input-7-e2ab54f47c04>:1: DeprecationWarning: find_elements_by_* commands are deprecated. Please use find_elements() instead\n",
      "  filter_button=driver.find_elements_by_xpath(\"//a[@class='a-link-normal s-navigation-item']/span\")\n"
     ]
    }
   ],
   "source": [
    "filter_button=driver.find_elements_by_xpath(\"//a[@class='a-link-normal s-navigation-item']/span\")\n",
    "for i in filter_button:\n",
    "    if i.text=='Intel Core i7':\n",
    "        i.click()\n",
    "        break"
   ]
  },
  {
   "cell_type": "code",
   "execution_count": 8,
   "id": "0cb3184a",
   "metadata": {},
   "outputs": [
    {
     "name": "stderr",
     "output_type": "stream",
     "text": [
      "<ipython-input-8-787530edb9c9>:1: DeprecationWarning: find_elements_by_* commands are deprecated. Please use find_elements() instead\n",
      "  filter_button=driver.find_elements_by_xpath(\"//a[@class='a-link-normal s-navigation-item']/span\")\n"
     ]
    }
   ],
   "source": [
    "filter_button=driver.find_elements_by_xpath(\"//a[@class='a-link-normal s-navigation-item']/span\")\n",
    "for i in filter_button:\n",
    "    if i.text=='Intel Core i9':\n",
    "        i.click()\n",
    "        break"
   ]
  },
  {
   "cell_type": "code",
   "execution_count": 9,
   "id": "02a00a6c",
   "metadata": {},
   "outputs": [
    {
     "name": "stderr",
     "output_type": "stream",
     "text": [
      "<ipython-input-9-61f54c1b98b5>:1: DeprecationWarning: find_elements_by_* commands are deprecated. Please use find_elements() instead\n",
      "  tit_tags=driver.find_elements_by_xpath(\"//h2[@class='a-size-mini a-spacing-none a-color-base s-line-clamp-2']\")\n"
     ]
    }
   ],
   "source": [
    "tit_tags=driver.find_elements_by_xpath(\"//h2[@class='a-size-mini a-spacing-none a-color-base s-line-clamp-2']\")"
   ]
  },
  {
   "cell_type": "code",
   "execution_count": 10,
   "id": "d05d1e83",
   "metadata": {},
   "outputs": [
    {
     "data": {
      "text/plain": [
       "['Lenovo ThinkBook 13s Intel 11th Gen Core i7 13.3\"(33.78 cm) WQXGA IPS 300 nits 100% sRGB Dolby Vision Thin and Light Laptop (16GB/512GB SSD/Windows 10/MS Office/FPR/Mineral Grey/1.26 Kg), 20V9A05FIH',\n",
       " 'ASUS TUF Dash F15 (2021) 15.6-inch (39.62 cms) FHD 144Hz, Intel Core i7-11370H 11th Gen, RTX 3050 4GB Graphics, Gaming Laptop (16GB/512GB SSD/Windows 10/Gray/2 Kg), FX516PCZ-HN091T',\n",
       " 'Mi Notebook Horizon Edition 14 Intel Core i7-10510U 10th Gen Thin and Light Laptop(8GB/512GB SSD/Windows 10/Nvidia MX350 2GB Graphics/Grey/1.35Kg)(Without Webcam) XMA1904-AF',\n",
       " 'HP Pavilion (2021) Intel 11th Gen Core i7 14 inches FHD Screen Thin & Light Laptop, 16 GB RAM, 1TB SSD, Iris Xe Graphics, Windows 10, MS Office, Backlit Keyboard, 1.41kg (14-dv0058TU)',\n",
       " 'Acer Nitro 5 AN515-57 Gaming Laptop | Intel Core i7-11800H |NVIDIA GeForce RTX 3050 Ti Laptop Graphics |15.6\" FHD 144Hz IPS Display |16GB DDR4 |256GB SSD+1TB HDD |Killer Wi-Fi 6 |RGB Backlit Keyboard',\n",
       " 'Dell 14 (2021) i7-1195G7 2in1 Touch Screen Laptop, 16GB, 512GB SSD, Win 10 + MS Office, 14.0\" (35.56 cms) FHD Display, Backlit KB, FPR + Active Pen, Platinum Silver (Inspiron 5410, D560596WIN9S)',\n",
       " 'Lenovo Legion 5 11th Gen Intel Core i7 15.6\"(39.62cm) FHD IPS Gaming Laptop (16GB/512GB SSD/NVIDIA RTX 3050 4GB/120Hz Refresh Rate/Windows 10/MS Office/Backlit Keyboard/Phantom Blue/2.4Kg), 82JK007WIN',\n",
       " 'Dell 15 (2021) i7-10870H Gaming Laptop, 16GB DDR4, 512GB SSD, Win 10 + MS Office, NVIDIA RTX 3050 Ti 4GB, 15.6\" (39.61 cms) FHD AG 250 nits 120Hz, Backlit KB Orange (G15 5510, D560534WIN9B)',\n",
       " 'HP Pavilion x360 11th Gen Intel Core i7 14-inch(35.6 cm) Touchscreen 2-in-1 FHD Laptop (16GB/512GB SSD/Fingerprint Reader/Windows 10/MS Office/Natural Silver/1.41 Kg), 14-dy0050TU',\n",
       " 'Lenovo ThinkBook 15 Intel 11th Gen Core i7 15.6\"(39.62 cm)FHD IPS 300 nits Antiglare 100% sRGB Thin & Light Laptop(16GB/1TB HDD+128GB SSD/Windows 10/MS Office/3 Yr Onsite Warranty/1.7 Kg) 20VEA0HBIH']"
      ]
     },
     "execution_count": 10,
     "metadata": {},
     "output_type": "execute_result"
    }
   ],
   "source": [
    "lap_titles=[] #empty list\n",
    "for i in tit_tags:\n",
    "    lap_titles.append(i.text)\n",
    "lap_titles[:10]"
   ]
  },
  {
   "cell_type": "code",
   "execution_count": 11,
   "id": "38262d39",
   "metadata": {},
   "outputs": [
    {
     "name": "stderr",
     "output_type": "stream",
     "text": [
      "<ipython-input-11-71e5fbacbf7b>:1: DeprecationWarning: find_elements_by_* commands are deprecated. Please use find_elements() instead\n",
      "  pr = driver.find_elements_by_xpath(\"//span[@class='a-price-whole']\")\n"
     ]
    }
   ],
   "source": [
    "pr = driver.find_elements_by_xpath(\"//span[@class='a-price-whole']\")"
   ]
  },
  {
   "cell_type": "code",
   "execution_count": 12,
   "id": "4f0e29b7",
   "metadata": {},
   "outputs": [
    {
     "data": {
      "text/plain": [
       "['89,990',\n",
       " '93,990',\n",
       " '56,990',\n",
       " '84,990',\n",
       " '85,990',\n",
       " '96,890',\n",
       " '1,11,030',\n",
       " '96,174',\n",
       " '84,990',\n",
       " '85,990']"
      ]
     },
     "execution_count": 12,
     "metadata": {},
     "output_type": "execute_result"
    }
   ],
   "source": [
    "price = []\n",
    "for i in pr:\n",
    "    price.append(i.text)\n",
    "price[:10]"
   ]
  },
  {
   "cell_type": "code",
   "execution_count": 13,
   "id": "6d4cb074",
   "metadata": {},
   "outputs": [
    {
     "name": "stderr",
     "output_type": "stream",
     "text": [
      "<ipython-input-13-c8f2cb5b6c38>:2: DeprecationWarning: find_elements_by_* commands are deprecated. Please use find_elements() instead\n",
      "  all_url = driver.find_elements_by_xpath(\"//a[@class='a-link-normal a-text-normal']\")\n"
     ]
    }
   ],
   "source": [
    "urls = []\n",
    "all_url = driver.find_elements_by_xpath(\"//a[@class='a-link-normal a-text-normal']\")"
   ]
  },
  {
   "cell_type": "code",
   "execution_count": 14,
   "id": "b4859d08",
   "metadata": {},
   "outputs": [],
   "source": [
    "for l in all_url[0:40]:\n",
    "    urls.append(l.get_attribute('href'))"
   ]
  },
  {
   "cell_type": "code",
   "execution_count": 15,
   "id": "bbf87500",
   "metadata": {},
   "outputs": [
    {
     "name": "stderr",
     "output_type": "stream",
     "text": [
      "<ipython-input-15-49fb4a51c518>:5: DeprecationWarning: find_element_by_* commands are deprecated. Please use find_element() instead\n",
      "  driver.find_element_by_xpath(\"//span[@id='acrCustomerReviewText']\").click()\n",
      "<ipython-input-15-49fb4a51c518>:6: DeprecationWarning: find_element_by_* commands are deprecated. Please use find_element() instead\n",
      "  rating=driver.find_element_by_xpath(\"//span[@class='a-size-medium a-color-base']\")\n"
     ]
    }
   ],
   "source": [
    "Ratings = []\n",
    "for x in urls:\n",
    "    driver.get(x)\n",
    "    try:              \n",
    "        driver.find_element_by_xpath(\"//span[@id='acrCustomerReviewText']\").click()\n",
    "        rating=driver.find_element_by_xpath(\"//span[@class='a-size-medium a-color-base']\")\n",
    "        Ratings.append(rating.text)\n",
    "    except NoSuchElementException as e :\n",
    "    \n",
    "        Ratings.append(\"No rating\")\n"
   ]
  },
  {
   "cell_type": "code",
   "execution_count": 16,
   "id": "c35c86e2",
   "metadata": {},
   "outputs": [
    {
     "data": {
      "text/plain": [
       "['4.3 out of 5',\n",
       " '3.9 out of 5',\n",
       " '4.2 out of 5',\n",
       " '4.3 out of 5',\n",
       " '3.8 out of 5',\n",
       " '4.6 out of 5',\n",
       " '4.4 out of 5',\n",
       " '3.3 out of 5',\n",
       " '4.3 out of 5',\n",
       " '4.1 out of 5']"
      ]
     },
     "execution_count": 16,
     "metadata": {},
     "output_type": "execute_result"
    }
   ],
   "source": [
    "Ratings[:10]"
   ]
  },
  {
   "cell_type": "code",
   "execution_count": 17,
   "id": "21323b08",
   "metadata": {},
   "outputs": [],
   "source": [
    "laptop=pd.DataFrame({})\n",
    "laptop['Title']=lap_titles[:10]\n",
    "laptop['Ratings']=Ratings[:10]\n",
    "laptop['Price']=price[:10]"
   ]
  },
  {
   "cell_type": "code",
   "execution_count": 18,
   "id": "6315d50c",
   "metadata": {},
   "outputs": [
    {
     "data": {
      "text/html": [
       "<div>\n",
       "<style scoped>\n",
       "    .dataframe tbody tr th:only-of-type {\n",
       "        vertical-align: middle;\n",
       "    }\n",
       "\n",
       "    .dataframe tbody tr th {\n",
       "        vertical-align: top;\n",
       "    }\n",
       "\n",
       "    .dataframe thead th {\n",
       "        text-align: right;\n",
       "    }\n",
       "</style>\n",
       "<table border=\"1\" class=\"dataframe\">\n",
       "  <thead>\n",
       "    <tr style=\"text-align: right;\">\n",
       "      <th></th>\n",
       "      <th>Title</th>\n",
       "      <th>Ratings</th>\n",
       "      <th>Price</th>\n",
       "    </tr>\n",
       "  </thead>\n",
       "  <tbody>\n",
       "    <tr>\n",
       "      <th>0</th>\n",
       "      <td>Lenovo ThinkBook 13s Intel 11th Gen Core i7 13...</td>\n",
       "      <td>4.3 out of 5</td>\n",
       "      <td>89,990</td>\n",
       "    </tr>\n",
       "    <tr>\n",
       "      <th>1</th>\n",
       "      <td>ASUS TUF Dash F15 (2021) 15.6-inch (39.62 cms)...</td>\n",
       "      <td>3.9 out of 5</td>\n",
       "      <td>93,990</td>\n",
       "    </tr>\n",
       "    <tr>\n",
       "      <th>2</th>\n",
       "      <td>Mi Notebook Horizon Edition 14 Intel Core i7-1...</td>\n",
       "      <td>4.2 out of 5</td>\n",
       "      <td>56,990</td>\n",
       "    </tr>\n",
       "    <tr>\n",
       "      <th>3</th>\n",
       "      <td>HP Pavilion (2021) Intel 11th Gen Core i7 14 i...</td>\n",
       "      <td>4.3 out of 5</td>\n",
       "      <td>84,990</td>\n",
       "    </tr>\n",
       "    <tr>\n",
       "      <th>4</th>\n",
       "      <td>Acer Nitro 5 AN515-57 Gaming Laptop | Intel Co...</td>\n",
       "      <td>3.8 out of 5</td>\n",
       "      <td>85,990</td>\n",
       "    </tr>\n",
       "    <tr>\n",
       "      <th>5</th>\n",
       "      <td>Dell 14 (2021) i7-1195G7 2in1 Touch Screen Lap...</td>\n",
       "      <td>4.6 out of 5</td>\n",
       "      <td>96,890</td>\n",
       "    </tr>\n",
       "    <tr>\n",
       "      <th>6</th>\n",
       "      <td>Lenovo Legion 5 11th Gen Intel Core i7 15.6\"(3...</td>\n",
       "      <td>4.4 out of 5</td>\n",
       "      <td>1,11,030</td>\n",
       "    </tr>\n",
       "    <tr>\n",
       "      <th>7</th>\n",
       "      <td>Dell 15 (2021) i7-10870H Gaming Laptop, 16GB D...</td>\n",
       "      <td>3.3 out of 5</td>\n",
       "      <td>96,174</td>\n",
       "    </tr>\n",
       "    <tr>\n",
       "      <th>8</th>\n",
       "      <td>HP Pavilion x360 11th Gen Intel Core i7 14-inc...</td>\n",
       "      <td>4.3 out of 5</td>\n",
       "      <td>84,990</td>\n",
       "    </tr>\n",
       "    <tr>\n",
       "      <th>9</th>\n",
       "      <td>Lenovo ThinkBook 15 Intel 11th Gen Core i7 15....</td>\n",
       "      <td>4.1 out of 5</td>\n",
       "      <td>85,990</td>\n",
       "    </tr>\n",
       "  </tbody>\n",
       "</table>\n",
       "</div>"
      ],
      "text/plain": [
       "                                               Title       Ratings     Price\n",
       "0  Lenovo ThinkBook 13s Intel 11th Gen Core i7 13...  4.3 out of 5    89,990\n",
       "1  ASUS TUF Dash F15 (2021) 15.6-inch (39.62 cms)...  3.9 out of 5    93,990\n",
       "2  Mi Notebook Horizon Edition 14 Intel Core i7-1...  4.2 out of 5    56,990\n",
       "3  HP Pavilion (2021) Intel 11th Gen Core i7 14 i...  4.3 out of 5    84,990\n",
       "4  Acer Nitro 5 AN515-57 Gaming Laptop | Intel Co...  3.8 out of 5    85,990\n",
       "5  Dell 14 (2021) i7-1195G7 2in1 Touch Screen Lap...  4.6 out of 5    96,890\n",
       "6  Lenovo Legion 5 11th Gen Intel Core i7 15.6\"(3...  4.4 out of 5  1,11,030\n",
       "7  Dell 15 (2021) i7-10870H Gaming Laptop, 16GB D...  3.3 out of 5    96,174\n",
       "8  HP Pavilion x360 11th Gen Intel Core i7 14-inc...  4.3 out of 5    84,990\n",
       "9  Lenovo ThinkBook 15 Intel 11th Gen Core i7 15....  4.1 out of 5    85,990"
      ]
     },
     "execution_count": 18,
     "metadata": {},
     "output_type": "execute_result"
    }
   ],
   "source": [
    "laptop"
   ]
  },
  {
   "cell_type": "code",
   "execution_count": 28,
   "id": "40bf32fc",
   "metadata": {},
   "outputs": [],
   "source": [
    "#question 9- Write a python program to scrape data for first 10 job results for Data Scientist Designation in Noida location. You have to scrape company name, No. of days ago when job was posted, Rating of the company. \n",
    "\n",
    "import selenium\n",
    "import pandas as pd\n",
    "from selenium import webdriver\n",
    "import time\n",
    "from selenium.common.exceptions import StaleElementReferenceException\n",
    "from selenium.common.exceptions import NoSuchElementException\n",
    "from selenium.webdriver.support.ui import WebDriverWait\n",
    "from selenium.webdriver.support.ui import Select"
   ]
  },
  {
   "cell_type": "code",
   "execution_count": 20,
   "id": "6f8dffeb",
   "metadata": {},
   "outputs": [
    {
     "name": "stderr",
     "output_type": "stream",
     "text": [
      "<ipython-input-20-15202a3d05e0>:1: DeprecationWarning: executable_path has been deprecated, please pass in a Service object\n",
      "  driver = webdriver.Chrome(r\"C:\\Users\\lenovo\\Downloads\\chromedriver_win32\\chromedriver.exe\")\n"
     ]
    }
   ],
   "source": [
    "driver = webdriver.Chrome(r\"C:\\Users\\lenovo\\Downloads\\chromedriver_win32\\chromedriver.exe\")"
   ]
  },
  {
   "cell_type": "code",
   "execution_count": 44,
   "id": "d1a2715f",
   "metadata": {},
   "outputs": [],
   "source": [
    "driver.get(\"https://www.ambitionbox.com/\")"
   ]
  },
  {
   "cell_type": "code",
   "execution_count": 45,
   "id": "973be930",
   "metadata": {},
   "outputs": [
    {
     "name": "stderr",
     "output_type": "stream",
     "text": [
      "<ipython-input-45-ac3a7a3933fb>:2: DeprecationWarning: find_element_by_* commands are deprecated. Please use find_element() instead\n",
      "  driver.find_element_by_xpath(\"//a[@class='link jobs']\").click()\n",
      "<ipython-input-45-ac3a7a3933fb>:4: DeprecationWarning: find_element_by_* commands are deprecated. Please use find_element() instead\n",
      "  driver.find_element_by_name(\"ab_jobsSearch\").send_keys(\"Data Scientist\")\n",
      "<ipython-input-45-ac3a7a3933fb>:5: DeprecationWarning: find_element_by_* commands are deprecated. Please use find_element() instead\n",
      "  driver.find_element_by_xpath(\"//span[@class='ctas-btn-medium']\").click()\n",
      "<ipython-input-45-ac3a7a3933fb>:7: DeprecationWarning: find_element_by_* commands are deprecated. Please use find_element() instead\n",
      "  driver.find_element_by_xpath(\"//p[contains(text(),'Location')]\").click()\n",
      "<ipython-input-45-ac3a7a3933fb>:9: DeprecationWarning: find_element_by_* commands are deprecated. Please use find_element() instead\n",
      "  driver.find_element_by_id(\"location_Noida\").click()\n"
     ]
    }
   ],
   "source": [
    "driver.get(\"https://www.ambitionbox.com/\")\n",
    "driver.find_element_by_xpath(\"//a[@class='link jobs']\").click()\n",
    "time.sleep(2)\n",
    "driver.find_element_by_name(\"ab_jobsSearch\").send_keys(\"Data Scientist\")\n",
    "driver.find_element_by_xpath(\"//span[@class='ctas-btn-medium']\").click()\n",
    "time.sleep(5)\n",
    "driver.find_element_by_xpath(\"//p[contains(text(),'Location')]\").click()\n",
    "time.sleep(4)\n",
    "driver.find_element_by_id(\"location_Noida\").click()\n",
    "time.sleep(2)\n",
    "#location=[]\n",
    "#locations=driver.find_elements_by_xpath(\"//']\")\n",
    "#for i in locations:\n",
    " #   loc=i.text\n",
    "  #  location.append(loc)\n",
    "#location\n",
    "\n",
    "Ambition_box=pd.DataFrame({})"
   ]
  },
  {
   "cell_type": "code",
   "execution_count": 46,
   "id": "79ab5626",
   "metadata": {},
   "outputs": [
    {
     "name": "stderr",
     "output_type": "stream",
     "text": [
      "<ipython-input-46-cab4521cd620>:2: DeprecationWarning: find_elements_by_* commands are deprecated. Please use find_elements() instead\n",
      "  company_name=driver.find_elements_by_xpath(\"//p[@class='company body-medium']\")\n"
     ]
    }
   ],
   "source": [
    "Companies=[]\n",
    "company_name=driver.find_elements_by_xpath(\"//p[@class='company body-medium']\")\n",
    "for i in company_name:\n",
    "    company=i.text\n",
    "    Companies.append(company)\n",
    "    \n",
    "Ambition_box['Company_name']=Companies"
   ]
  },
  {
   "cell_type": "code",
   "execution_count": 47,
   "id": "cb97267f",
   "metadata": {},
   "outputs": [
    {
     "name": "stderr",
     "output_type": "stream",
     "text": [
      "<ipython-input-47-4cbf67b289ac>:2: DeprecationWarning: find_elements_by_* commands are deprecated. Please use find_elements() instead\n",
      "  posted_on=driver.find_elements_by_xpath(\"//div[@class='other-info']//span[@class='body-small-l']\")\n"
     ]
    },
    {
     "name": "stdout",
     "output_type": "stream",
     "text": [
      "['11d ago', 'via naukri.com', '4d ago', 'via naukri.com', '6d ago', 'via naukri.com', '3d ago', 'via hirist.com', '1mon ago', 'via naukri.com', '23d ago', 'via naukri.com', '23d ago', 'via naukri.com', '1mon ago', 'via naukri.com', '5d ago', 'via hirist.com', '3d ago', 'via iimjobs.com']\n",
      "Stepped splitted List : [['11d ago', '4d ago', '6d ago', '3d ago', '1mon ago', '23d ago', '23d ago', '1mon ago', '5d ago', '3d ago'], ['via naukri.com', 'via naukri.com', 'via naukri.com', 'via hirist.com', 'via naukri.com', 'via naukri.com', 'via naukri.com', 'via naukri.com', 'via hirist.com', 'via iimjobs.com']]\n"
     ]
    }
   ],
   "source": [
    "days=[]\n",
    "posted_on=driver.find_elements_by_xpath(\"//div[@class='other-info']//span[@class='body-small-l']\")\n",
    "for i in posted_on:\n",
    "    post=i.text\n",
    "    days.append(post)\n",
    "print(days)\n",
    "K = 2\n",
    "res = []\n",
    "for idx in range(0, K):\n",
    "    res.append(days[idx::K])\n",
    "print(\"Stepped splitted List : \" + str(res))\n",
    "result=list(res)\n",
    "Ambition_box['Posted_on']=result[0]"
   ]
  },
  {
   "cell_type": "code",
   "execution_count": 48,
   "id": "dbb3a576",
   "metadata": {},
   "outputs": [
    {
     "name": "stderr",
     "output_type": "stream",
     "text": [
      "<ipython-input-48-321eb93b43aa>:2: DeprecationWarning: find_elements_by_* commands are deprecated. Please use find_elements() instead\n",
      "  rating=driver.find_elements_by_xpath(\"//span[@class='body-small']\")\n"
     ]
    }
   ],
   "source": [
    "ratings=[]\n",
    "rating=driver.find_elements_by_xpath(\"//span[@class='body-small']\")\n",
    "\n",
    "for i in rating:\n",
    "    rate=i.text\n",
    "    ratings.append(rate)\n",
    "    \n",
    "Ambition_box['Ratings']=ratings[0:10]"
   ]
  },
  {
   "cell_type": "code",
   "execution_count": 49,
   "id": "08213355",
   "metadata": {},
   "outputs": [
    {
     "data": {
      "text/html": [
       "<div>\n",
       "<style scoped>\n",
       "    .dataframe tbody tr th:only-of-type {\n",
       "        vertical-align: middle;\n",
       "    }\n",
       "\n",
       "    .dataframe tbody tr th {\n",
       "        vertical-align: top;\n",
       "    }\n",
       "\n",
       "    .dataframe thead th {\n",
       "        text-align: right;\n",
       "    }\n",
       "</style>\n",
       "<table border=\"1\" class=\"dataframe\">\n",
       "  <thead>\n",
       "    <tr style=\"text-align: right;\">\n",
       "      <th></th>\n",
       "      <th>Company_name</th>\n",
       "      <th>Posted_on</th>\n",
       "      <th>Ratings</th>\n",
       "    </tr>\n",
       "  </thead>\n",
       "  <tbody>\n",
       "    <tr>\n",
       "      <th>0</th>\n",
       "      <td>Optum Global Solutions (India) Private Limited</td>\n",
       "      <td>11d ago</td>\n",
       "      <td>4.1</td>\n",
       "    </tr>\n",
       "    <tr>\n",
       "      <th>1</th>\n",
       "      <td>Steria India Ltd</td>\n",
       "      <td>4d ago</td>\n",
       "      <td>4.1</td>\n",
       "    </tr>\n",
       "    <tr>\n",
       "      <th>2</th>\n",
       "      <td>Ameriprise Financial</td>\n",
       "      <td>6d ago</td>\n",
       "      <td>4.1</td>\n",
       "    </tr>\n",
       "    <tr>\n",
       "      <th>3</th>\n",
       "      <td>Jubilant Foodworks Limited</td>\n",
       "      <td>3d ago</td>\n",
       "      <td>3.9</td>\n",
       "    </tr>\n",
       "    <tr>\n",
       "      <th>4</th>\n",
       "      <td>Optum Global Solutions (India) Private Limited</td>\n",
       "      <td>1mon ago</td>\n",
       "      <td>4.1</td>\n",
       "    </tr>\n",
       "    <tr>\n",
       "      <th>5</th>\n",
       "      <td>Steria India Ltd</td>\n",
       "      <td>23d ago</td>\n",
       "      <td>4.1</td>\n",
       "    </tr>\n",
       "    <tr>\n",
       "      <th>6</th>\n",
       "      <td>Steria India Ltd</td>\n",
       "      <td>23d ago</td>\n",
       "      <td>4.1</td>\n",
       "    </tr>\n",
       "    <tr>\n",
       "      <th>7</th>\n",
       "      <td>HCL Technologies Limited</td>\n",
       "      <td>1mon ago</td>\n",
       "      <td>3.8</td>\n",
       "    </tr>\n",
       "    <tr>\n",
       "      <th>8</th>\n",
       "      <td>Zyoin</td>\n",
       "      <td>5d ago</td>\n",
       "      <td>4.2</td>\n",
       "    </tr>\n",
       "    <tr>\n",
       "      <th>9</th>\n",
       "      <td>GI Group</td>\n",
       "      <td>3d ago</td>\n",
       "      <td>3.9</td>\n",
       "    </tr>\n",
       "  </tbody>\n",
       "</table>\n",
       "</div>"
      ],
      "text/plain": [
       "                                     Company_name Posted_on Ratings\n",
       "0  Optum Global Solutions (India) Private Limited   11d ago     4.1\n",
       "1                                Steria India Ltd    4d ago     4.1\n",
       "2                            Ameriprise Financial    6d ago     4.1\n",
       "3                      Jubilant Foodworks Limited    3d ago     3.9\n",
       "4  Optum Global Solutions (India) Private Limited  1mon ago     4.1\n",
       "5                                Steria India Ltd   23d ago     4.1\n",
       "6                                Steria India Ltd   23d ago     4.1\n",
       "7                        HCL Technologies Limited  1mon ago     3.8\n",
       "8                                           Zyoin    5d ago     4.2\n",
       "9                                        GI Group    3d ago     3.9"
      ]
     },
     "execution_count": 49,
     "metadata": {},
     "output_type": "execute_result"
    }
   ],
   "source": [
    "Ambition_box"
   ]
  },
  {
   "cell_type": "code",
   "execution_count": 50,
   "id": "882407cc",
   "metadata": {},
   "outputs": [],
   "source": [
    "#question10- Write a python program to scrape the salary data for Data Scientist designation. You have to scrape Company name, Number of salaries, Average salary, Min salary, Max Salary. \n",
    "\n",
    "import selenium\n",
    "import pandas as pd\n",
    "from selenium import webdriver\n",
    "import time\n",
    "from selenium.common.exceptions import StaleElementReferenceException\n",
    "from selenium.common.exceptions import NoSuchElementException\n",
    "from selenium.webdriver.support.ui import WebDriverWait\n",
    "from selenium.webdriver.support.ui import Select"
   ]
  },
  {
   "cell_type": "code",
   "execution_count": 51,
   "id": "dc005744",
   "metadata": {},
   "outputs": [
    {
     "name": "stderr",
     "output_type": "stream",
     "text": [
      "<ipython-input-51-15202a3d05e0>:1: DeprecationWarning: executable_path has been deprecated, please pass in a Service object\n",
      "  driver = webdriver.Chrome(r\"C:\\Users\\lenovo\\Downloads\\chromedriver_win32\\chromedriver.exe\")\n"
     ]
    }
   ],
   "source": [
    "driver = webdriver.Chrome(r\"C:\\Users\\lenovo\\Downloads\\chromedriver_win32\\chromedriver.exe\")"
   ]
  },
  {
   "cell_type": "code",
   "execution_count": 52,
   "id": "2226db58",
   "metadata": {},
   "outputs": [],
   "source": [
    "driver.get(\"https://www.ambitionbox.com/\")"
   ]
  },
  {
   "cell_type": "code",
   "execution_count": 53,
   "id": "6ed2b4a1",
   "metadata": {},
   "outputs": [
    {
     "name": "stderr",
     "output_type": "stream",
     "text": [
      "<ipython-input-53-b91ab8a4944c>:1: DeprecationWarning: find_element_by_* commands are deprecated. Please use find_element() instead\n",
      "  driver.find_element_by_xpath(\"//a[@class='link salaries']\").click()\n",
      "<ipython-input-53-b91ab8a4944c>:2: DeprecationWarning: find_element_by_* commands are deprecated. Please use find_element() instead\n",
      "  searchbox= driver.find_element_by_id(\"jobProfileSearchbox\").send_keys(\"Data Scientist\")\n",
      "<ipython-input-53-b91ab8a4944c>:4: DeprecationWarning: find_element_by_* commands are deprecated. Please use find_element() instead\n",
      "  dropdown = driver.find_element_by_xpath(\"//div[@class='suggestion_wrap tt-suggestion tt-selectable']//p[contains(text(),'Data Scientist')]\").click()\n"
     ]
    }
   ],
   "source": [
    "driver.find_element_by_xpath(\"//a[@class='link salaries']\").click()\n",
    "searchbox= driver.find_element_by_id(\"jobProfileSearchbox\").send_keys(\"Data Scientist\")\n",
    "time.sleep(3)\n",
    "dropdown = driver.find_element_by_xpath(\"//div[@class='suggestion_wrap tt-suggestion tt-selectable']//p[contains(text(),'Data Scientist')]\").click()\n",
    "Ambition_box_salary=pd.DataFrame({})"
   ]
  },
  {
   "cell_type": "code",
   "execution_count": 54,
   "id": "f04139dd",
   "metadata": {},
   "outputs": [
    {
     "name": "stderr",
     "output_type": "stream",
     "text": [
      "<ipython-input-54-76462bbb9cba>:2: DeprecationWarning: find_elements_by_* commands are deprecated. Please use find_elements() instead\n",
      "  company_name=driver.find_elements_by_xpath(\"//div[@class='name']\")\n"
     ]
    }
   ],
   "source": [
    "Company_names=[]\n",
    "company_name=driver.find_elements_by_xpath(\"//div[@class='name']\")\n",
    "for i in company_name:\n",
    "    i=i.text.replace('\\n',\" \")\n",
    "    i=i.strip(\" \")\n",
    "    Company_names.append(i)\n",
    "\n",
    "Ambition_box_salary['Total_salary_record']=Company_names"
   ]
  },
  {
   "cell_type": "code",
   "execution_count": 55,
   "id": "67dcd420",
   "metadata": {},
   "outputs": [
    {
     "name": "stderr",
     "output_type": "stream",
     "text": [
      "<ipython-input-55-63a992d5c10e>:2: DeprecationWarning: find_elements_by_* commands are deprecated. Please use find_elements() instead\n",
      "  avg=driver.find_elements_by_xpath(\"//p[@class='averageCtc']\")\n"
     ]
    }
   ],
   "source": [
    "Avg_CTC=[]\n",
    "avg=driver.find_elements_by_xpath(\"//p[@class='averageCtc']\")\n",
    "for i in avg:\n",
    "    i=i.text\n",
    "    Avg_CTC.append(i)\n",
    "Ambition_box_salary['Avg_CTC']=Avg_CTC"
   ]
  },
  {
   "cell_type": "code",
   "execution_count": 56,
   "id": "ec5e46fe",
   "metadata": {},
   "outputs": [
    {
     "name": "stderr",
     "output_type": "stream",
     "text": [
      "<ipython-input-56-af00d462a99b>:2: DeprecationWarning: find_elements_by_* commands are deprecated. Please use find_elements() instead\n",
      "  min_salo=driver.find_elements_by_xpath(\"//div[@class='value body-medium']\")\n"
     ]
    },
    {
     "name": "stdout",
     "output_type": "stream",
     "text": [
      "Stepped splitted List : [['₹ 15.0L', '₹ 11.0L', '₹ 9.0L', '₹ 8.3L', '₹ 7.2L', '₹ 10.0L', '₹ 8.5L', '₹ 6.9L', '₹ 6.0L', '₹ 5.0L'], ['₹ 23.0L', '₹ 21.3L', '₹ 20.8L', '₹ 18.5L', '₹ 20.5L', '₹ 21.0L', '₹ 15.0L', '₹ 20.5L', '₹ 20.0L', '₹ 21.5L']]\n"
     ]
    }
   ],
   "source": [
    "min_sal=[]\n",
    "min_salo=driver.find_elements_by_xpath(\"//div[@class='value body-medium']\")\n",
    "for i in min_salo:\n",
    "    i=i.text.replace(\"\\n\",',')\n",
    "    min_sal.append(i)\n",
    "K = 2\n",
    "res = []\n",
    "for idx in range(0, K):\n",
    "    res.append(min_sal[idx::K])\n",
    "print(\"Stepped splitted List : \" +str(res))\n",
    "result=list(res)\n",
    "Ambition_box_salary['Minimum_Salary']=result[0]\n",
    "Ambition_box_salary['Maximum_Salary']=result[1]"
   ]
  },
  {
   "cell_type": "code",
   "execution_count": 57,
   "id": "17cc91ba",
   "metadata": {},
   "outputs": [
    {
     "name": "stderr",
     "output_type": "stream",
     "text": [
      "<ipython-input-57-04d99b610502>:2: DeprecationWarning: find_elements_by_* commands are deprecated. Please use find_elements() instead\n",
      "  experience=driver.find_elements_by_xpath(\"//div[@class='salaries sbold-list-header']\")\n"
     ]
    }
   ],
   "source": [
    "exp=[]\n",
    "experience=driver.find_elements_by_xpath(\"//div[@class='salaries sbold-list-header']\")"
   ]
  },
  {
   "cell_type": "code",
   "execution_count": 58,
   "id": "44029f49",
   "metadata": {},
   "outputs": [
    {
     "name": "stdout",
     "output_type": "stream",
     "text": [
      "Stepped splitted List : [['Data Scientist ', 'Data Scientist ', 'Data Scientist ', 'Data Scientist ', 'Data Scientist ', 'Data Scientist ', 'Data Scientist ', 'Data Scientist ', 'Data Scientist ', 'Data Scientist '], [' 4 yrs exp', ' 3-4 yrs exp', ' 2-4 yrs exp', ' 3-4 yrs exp', ' 2-4 yrs exp', ' 4 yrs exp', ' 4 yrs exp', ' 2-4 yrs exp', ' 3-4 yrs exp', ' 3-4 yrs exp']]\n"
     ]
    }
   ],
   "source": [
    "for i in experience:\n",
    "    i=i.text.replace(\"\\n\",\"\")\n",
    "    i=i.split(\".\")\n",
    "    exp.append(i)\n",
    "List = []\n",
    "for elem in exp:\n",
    "    List.extend(elem)\n",
    "K = 2\n",
    "res = []\n",
    "for idx in range(0, K):\n",
    "    res.append(List[idx::K])\n",
    "print(\"Stepped splitted List : \" +str(res))\n",
    "result=list(res)\n",
    "Ambition_box_salary['Role']=result[0][0:10]\n",
    "Ambition_box_salary['Experience']=result[1][0:10]"
   ]
  },
  {
   "cell_type": "code",
   "execution_count": 59,
   "id": "9e0e8539",
   "metadata": {},
   "outputs": [
    {
     "data": {
      "text/html": [
       "<div>\n",
       "<style scoped>\n",
       "    .dataframe tbody tr th:only-of-type {\n",
       "        vertical-align: middle;\n",
       "    }\n",
       "\n",
       "    .dataframe tbody tr th {\n",
       "        vertical-align: top;\n",
       "    }\n",
       "\n",
       "    .dataframe thead th {\n",
       "        text-align: right;\n",
       "    }\n",
       "</style>\n",
       "<table border=\"1\" class=\"dataframe\">\n",
       "  <thead>\n",
       "    <tr style=\"text-align: right;\">\n",
       "      <th></th>\n",
       "      <th>Total_salary_record</th>\n",
       "      <th>Avg_CTC</th>\n",
       "      <th>Minimum_Salary</th>\n",
       "      <th>Maximum_Salary</th>\n",
       "      <th>Role</th>\n",
       "      <th>Experience</th>\n",
       "    </tr>\n",
       "  </thead>\n",
       "  <tbody>\n",
       "    <tr>\n",
       "      <th>0</th>\n",
       "      <td>Ab Inbev based on 10 salaries</td>\n",
       "      <td>₹ 19.4L</td>\n",
       "      <td>₹ 15.0L</td>\n",
       "      <td>₹ 23.0L</td>\n",
       "      <td>Data Scientist</td>\n",
       "      <td>4 yrs exp</td>\n",
       "    </tr>\n",
       "    <tr>\n",
       "      <th>1</th>\n",
       "      <td>Optum based on 22 salaries</td>\n",
       "      <td>₹ 15.1L</td>\n",
       "      <td>₹ 11.0L</td>\n",
       "      <td>₹ 21.3L</td>\n",
       "      <td>Data Scientist</td>\n",
       "      <td>3-4 yrs exp</td>\n",
       "    </tr>\n",
       "    <tr>\n",
       "      <th>2</th>\n",
       "      <td>Fractal Analytics based on 60 salaries</td>\n",
       "      <td>₹ 14.7L</td>\n",
       "      <td>₹ 9.0L</td>\n",
       "      <td>₹ 20.8L</td>\n",
       "      <td>Data Scientist</td>\n",
       "      <td>2-4 yrs exp</td>\n",
       "    </tr>\n",
       "    <tr>\n",
       "      <th>3</th>\n",
       "      <td>Tiger Analytics based on 24 salaries</td>\n",
       "      <td>₹ 13.4L</td>\n",
       "      <td>₹ 8.3L</td>\n",
       "      <td>₹ 18.5L</td>\n",
       "      <td>Data Scientist</td>\n",
       "      <td>3-4 yrs exp</td>\n",
       "    </tr>\n",
       "    <tr>\n",
       "      <th>4</th>\n",
       "      <td>UnitedHealth based on 45 salaries</td>\n",
       "      <td>₹ 13.3L</td>\n",
       "      <td>₹ 7.2L</td>\n",
       "      <td>₹ 20.5L</td>\n",
       "      <td>Data Scientist</td>\n",
       "      <td>2-4 yrs exp</td>\n",
       "    </tr>\n",
       "    <tr>\n",
       "      <th>5</th>\n",
       "      <td>Verizon based on 14 salaries</td>\n",
       "      <td>₹ 12.7L</td>\n",
       "      <td>₹ 10.0L</td>\n",
       "      <td>₹ 21.0L</td>\n",
       "      <td>Data Scientist</td>\n",
       "      <td>4 yrs exp</td>\n",
       "    </tr>\n",
       "    <tr>\n",
       "      <th>6</th>\n",
       "      <td>Ganit Business Solutions based on 12 salaries</td>\n",
       "      <td>₹ 12.4L</td>\n",
       "      <td>₹ 8.5L</td>\n",
       "      <td>₹ 15.0L</td>\n",
       "      <td>Data Scientist</td>\n",
       "      <td>4 yrs exp</td>\n",
       "    </tr>\n",
       "    <tr>\n",
       "      <th>7</th>\n",
       "      <td>Deloitte based on 45 salaries</td>\n",
       "      <td>₹ 11.2L</td>\n",
       "      <td>₹ 6.9L</td>\n",
       "      <td>₹ 20.5L</td>\n",
       "      <td>Data Scientist</td>\n",
       "      <td>2-4 yrs exp</td>\n",
       "    </tr>\n",
       "    <tr>\n",
       "      <th>8</th>\n",
       "      <td>Ernst &amp; Young based on 26 salaries</td>\n",
       "      <td>₹ 11.1L</td>\n",
       "      <td>₹ 6.0L</td>\n",
       "      <td>₹ 20.0L</td>\n",
       "      <td>Data Scientist</td>\n",
       "      <td>3-4 yrs exp</td>\n",
       "    </tr>\n",
       "    <tr>\n",
       "      <th>9</th>\n",
       "      <td>Ericsson based on 43 salaries</td>\n",
       "      <td>₹ 10.9L</td>\n",
       "      <td>₹ 5.0L</td>\n",
       "      <td>₹ 21.5L</td>\n",
       "      <td>Data Scientist</td>\n",
       "      <td>3-4 yrs exp</td>\n",
       "    </tr>\n",
       "  </tbody>\n",
       "</table>\n",
       "</div>"
      ],
      "text/plain": [
       "                             Total_salary_record  Avg_CTC Minimum_Salary  \\\n",
       "0                  Ab Inbev based on 10 salaries  ₹ 19.4L        ₹ 15.0L   \n",
       "1                     Optum based on 22 salaries  ₹ 15.1L        ₹ 11.0L   \n",
       "2         Fractal Analytics based on 60 salaries  ₹ 14.7L         ₹ 9.0L   \n",
       "3           Tiger Analytics based on 24 salaries  ₹ 13.4L         ₹ 8.3L   \n",
       "4              UnitedHealth based on 45 salaries  ₹ 13.3L         ₹ 7.2L   \n",
       "5                   Verizon based on 14 salaries  ₹ 12.7L        ₹ 10.0L   \n",
       "6  Ganit Business Solutions based on 12 salaries  ₹ 12.4L         ₹ 8.5L   \n",
       "7                  Deloitte based on 45 salaries  ₹ 11.2L         ₹ 6.9L   \n",
       "8             Ernst & Young based on 26 salaries  ₹ 11.1L         ₹ 6.0L   \n",
       "9                  Ericsson based on 43 salaries  ₹ 10.9L         ₹ 5.0L   \n",
       "\n",
       "  Maximum_Salary             Role    Experience  \n",
       "0        ₹ 23.0L  Data Scientist      4 yrs exp  \n",
       "1        ₹ 21.3L  Data Scientist    3-4 yrs exp  \n",
       "2        ₹ 20.8L  Data Scientist    2-4 yrs exp  \n",
       "3        ₹ 18.5L  Data Scientist    3-4 yrs exp  \n",
       "4        ₹ 20.5L  Data Scientist    2-4 yrs exp  \n",
       "5        ₹ 21.0L  Data Scientist      4 yrs exp  \n",
       "6        ₹ 15.0L  Data Scientist      4 yrs exp  \n",
       "7        ₹ 20.5L  Data Scientist    2-4 yrs exp  \n",
       "8        ₹ 20.0L  Data Scientist    3-4 yrs exp  \n",
       "9        ₹ 21.5L  Data Scientist    3-4 yrs exp  "
      ]
     },
     "execution_count": 59,
     "metadata": {},
     "output_type": "execute_result"
    }
   ],
   "source": [
    "Ambition_box_salary"
   ]
  },
  {
   "cell_type": "code",
   "execution_count": null,
   "id": "962d52fd",
   "metadata": {},
   "outputs": [],
   "source": []
  }
 ],
 "metadata": {
  "kernelspec": {
   "display_name": "Python 3",
   "language": "python",
   "name": "python3"
  },
  "language_info": {
   "codemirror_mode": {
    "name": "ipython",
    "version": 3
   },
   "file_extension": ".py",
   "mimetype": "text/x-python",
   "name": "python",
   "nbconvert_exporter": "python",
   "pygments_lexer": "ipython3",
   "version": "3.8.8"
  }
 },
 "nbformat": 4,
 "nbformat_minor": 5
}
