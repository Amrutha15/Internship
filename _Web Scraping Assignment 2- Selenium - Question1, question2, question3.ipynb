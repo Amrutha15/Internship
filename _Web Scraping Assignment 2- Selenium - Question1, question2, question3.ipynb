{
 "cells": [
  {
   "cell_type": "code",
   "execution_count": 1,
   "id": "59e04920",
   "metadata": {},
   "outputs": [
    {
     "name": "stdout",
     "output_type": "stream",
     "text": [
      "Requirement already satisfied: selenium in c:\\users\\lenovo\\anaconda3\\lib\\site-packages (4.0.0)\n",
      "Requirement already satisfied: urllib3[secure]~=1.26 in c:\\users\\lenovo\\anaconda3\\lib\\site-packages (from selenium) (1.26.4)\n",
      "Requirement already satisfied: trio~=0.17 in c:\\users\\lenovo\\anaconda3\\lib\\site-packages (from selenium) (0.19.0)\n",
      "Requirement already satisfied: trio-websocket~=0.9 in c:\\users\\lenovo\\anaconda3\\lib\\site-packages (from selenium) (0.9.2)\n",
      "Requirement already satisfied: cffi>=1.14 in c:\\users\\lenovo\\anaconda3\\lib\\site-packages (from trio~=0.17->selenium) (1.14.5)\n",
      "Requirement already satisfied: async-generator>=1.9 in c:\\users\\lenovo\\anaconda3\\lib\\site-packages (from trio~=0.17->selenium) (1.10)\n",
      "Requirement already satisfied: attrs>=19.2.0 in c:\\users\\lenovo\\anaconda3\\lib\\site-packages (from trio~=0.17->selenium) (20.3.0)\n",
      "Requirement already satisfied: idna in c:\\users\\lenovo\\anaconda3\\lib\\site-packages (from trio~=0.17->selenium) (2.10)\n",
      "Requirement already satisfied: sortedcontainers in c:\\users\\lenovo\\anaconda3\\lib\\site-packages (from trio~=0.17->selenium) (2.3.0)\n",
      "Requirement already satisfied: sniffio in c:\\users\\lenovo\\anaconda3\\lib\\site-packages (from trio~=0.17->selenium) (1.2.0)\n",
      "Requirement already satisfied: outcome in c:\\users\\lenovo\\anaconda3\\lib\\site-packages (from trio~=0.17->selenium) (1.1.0)\n",
      "Requirement already satisfied: pycparser in c:\\users\\lenovo\\anaconda3\\lib\\site-packages (from cffi>=1.14->trio~=0.17->selenium) (2.20)\n",
      "Requirement already satisfied: wsproto>=0.14 in c:\\users\\lenovo\\anaconda3\\lib\\site-packages (from trio-websocket~=0.9->selenium) (1.0.0)\n",
      "Requirement already satisfied: cryptography>=1.3.4 in c:\\users\\lenovo\\anaconda3\\lib\\site-packages (from urllib3[secure]~=1.26->selenium) (3.4.7)\n",
      "Requirement already satisfied: pyOpenSSL>=0.14 in c:\\users\\lenovo\\anaconda3\\lib\\site-packages (from urllib3[secure]~=1.26->selenium) (20.0.1)\n",
      "Requirement already satisfied: certifi in c:\\users\\lenovo\\anaconda3\\lib\\site-packages (from urllib3[secure]~=1.26->selenium) (2020.12.5)\n",
      "Requirement already satisfied: six>=1.5.2 in c:\\users\\lenovo\\anaconda3\\lib\\site-packages (from pyOpenSSL>=0.14->urllib3[secure]~=1.26->selenium) (1.15.0)\n",
      "Requirement already satisfied: h11<1,>=0.9.0 in c:\\users\\lenovo\\anaconda3\\lib\\site-packages (from wsproto>=0.14->trio-websocket~=0.9->selenium) (0.12.0)\n",
      "Note: you may need to restart the kernel to use updated packages.\n"
     ]
    }
   ],
   "source": [
    "pip install selenium"
   ]
  },
  {
   "cell_type": "code",
   "execution_count": 2,
   "id": "00466507",
   "metadata": {},
   "outputs": [],
   "source": [
    "#Question1-Write a python program to scrape data for “Data Analyst” Job position in “Bangalore” location. You have to scrape the job-title, job-location, company_name, experience_required. You have to scrape first 10 jobs data.\n",
    "import selenium\n",
    "import pandas as pd\n",
    "from selenium import webdriver"
   ]
  },
  {
   "cell_type": "code",
   "execution_count": 3,
   "id": "cd74e54e",
   "metadata": {},
   "outputs": [
    {
     "name": "stderr",
     "output_type": "stream",
     "text": [
      "<ipython-input-3-15202a3d05e0>:1: DeprecationWarning: executable_path has been deprecated, please pass in a Service object\n",
      "  driver = webdriver.Chrome(r\"C:\\Users\\lenovo\\Downloads\\chromedriver_win32\\chromedriver.exe\")\n"
     ]
    }
   ],
   "source": [
    "driver = webdriver.Chrome(r\"C:\\Users\\lenovo\\Downloads\\chromedriver_win32\\chromedriver.exe\")"
   ]
  },
  {
   "cell_type": "code",
   "execution_count": 4,
   "id": "96dd466c",
   "metadata": {},
   "outputs": [],
   "source": [
    "driver.get('https://www.naukri.com/')"
   ]
  },
  {
   "cell_type": "code",
   "execution_count": 5,
   "id": "4442ba3a",
   "metadata": {},
   "outputs": [
    {
     "name": "stderr",
     "output_type": "stream",
     "text": [
      "<ipython-input-5-cda738b14c6f>:1: DeprecationWarning: find_element_by_* commands are deprecated. Please use find_element() instead\n",
      "  search_job = driver.find_element_by_id('qsb-keyword-sugg')\n",
      "<ipython-input-5-cda738b14c6f>:3: DeprecationWarning: find_element_by_* commands are deprecated. Please use find_element() instead\n",
      "  search_loc = driver.find_element_by_xpath(\"//input[@id='qsb-location-sugg']\")\n"
     ]
    }
   ],
   "source": [
    "search_job = driver.find_element_by_id('qsb-keyword-sugg')\n",
    "search_job.send_keys('Data Analyst')\n",
    "search_loc = driver.find_element_by_xpath(\"//input[@id='qsb-location-sugg']\")\n",
    "search_loc.send_keys('Bangalore')"
   ]
  },
  {
   "cell_type": "code",
   "execution_count": 6,
   "id": "352e93db",
   "metadata": {},
   "outputs": [
    {
     "name": "stderr",
     "output_type": "stream",
     "text": [
      "<ipython-input-6-c9b437d84350>:1: DeprecationWarning: find_element_by_* commands are deprecated. Please use find_element() instead\n",
      "  search_btn = driver.find_element_by_xpath(\"//div[@class='search-btn']/button\")\n"
     ]
    }
   ],
   "source": [
    "search_btn = driver.find_element_by_xpath(\"//div[@class='search-btn']/button\")\n",
    "search_btn.click()"
   ]
  },
  {
   "cell_type": "code",
   "execution_count": 7,
   "id": "d6e2611e",
   "metadata": {},
   "outputs": [],
   "source": [
    "url=\"https://www.naukri.com/data-analyst-jobs-in-bangalore-bengaluru?k=data%20analyst&l=bangalore%2Fbengaluru\""
   ]
  },
  {
   "cell_type": "code",
   "execution_count": 8,
   "id": "94377286",
   "metadata": {},
   "outputs": [],
   "source": [
    "driver.get(url)"
   ]
  },
  {
   "cell_type": "code",
   "execution_count": 9,
   "id": "6a250ab9",
   "metadata": {},
   "outputs": [],
   "source": [
    "job_titles=[]\n",
    "company_names=[]\n",
    "locations_list=[]\n",
    "experience_list=[]"
   ]
  },
  {
   "cell_type": "code",
   "execution_count": 10,
   "id": "05a5e8b9",
   "metadata": {},
   "outputs": [
    {
     "name": "stderr",
     "output_type": "stream",
     "text": [
      "<ipython-input-10-6a62be88574a>:1: DeprecationWarning: find_elements_by_* commands are deprecated. Please use find_elements() instead\n",
      "  titles_tags=driver.find_elements_by_xpath(\"//a[@class='title fw500 ellipsis']\")\n"
     ]
    },
    {
     "data": {
      "text/plain": [
       "[<selenium.webdriver.remote.webelement.WebElement (session=\"62fb28b84806510793cc73993a8af6e6\", element=\"1edeee49-4a1c-4fc6-8950-434654f83d53\")>,\n",
       " <selenium.webdriver.remote.webelement.WebElement (session=\"62fb28b84806510793cc73993a8af6e6\", element=\"f5a38175-5390-4e87-9654-8d6e9b9a6270\")>,\n",
       " <selenium.webdriver.remote.webelement.WebElement (session=\"62fb28b84806510793cc73993a8af6e6\", element=\"4e09dcf2-4194-4658-809d-cad78300dcb8\")>,\n",
       " <selenium.webdriver.remote.webelement.WebElement (session=\"62fb28b84806510793cc73993a8af6e6\", element=\"117ec4c0-4824-4449-a87b-daa5f9d39d83\")>,\n",
       " <selenium.webdriver.remote.webelement.WebElement (session=\"62fb28b84806510793cc73993a8af6e6\", element=\"8a3a9b1f-390c-4888-bfa2-5e951e28827f\")>,\n",
       " <selenium.webdriver.remote.webelement.WebElement (session=\"62fb28b84806510793cc73993a8af6e6\", element=\"6b7961cb-378a-41f6-aec1-636cb11fb777\")>,\n",
       " <selenium.webdriver.remote.webelement.WebElement (session=\"62fb28b84806510793cc73993a8af6e6\", element=\"3429a686-52c6-4307-9851-d452db65f53d\")>,\n",
       " <selenium.webdriver.remote.webelement.WebElement (session=\"62fb28b84806510793cc73993a8af6e6\", element=\"c1daca69-7d83-4101-b855-1666b2702ea8\")>,\n",
       " <selenium.webdriver.remote.webelement.WebElement (session=\"62fb28b84806510793cc73993a8af6e6\", element=\"629fde47-038a-4763-8988-736d3854b526\")>,\n",
       " <selenium.webdriver.remote.webelement.WebElement (session=\"62fb28b84806510793cc73993a8af6e6\", element=\"fef52661-e8ca-4ab6-b65a-e8b3f3123200\")>]"
      ]
     },
     "execution_count": 10,
     "metadata": {},
     "output_type": "execute_result"
    }
   ],
   "source": [
    "titles_tags=driver.find_elements_by_xpath(\"//a[@class='title fw500 ellipsis']\")\n",
    "titles_tags[0:10]"
   ]
  },
  {
   "cell_type": "code",
   "execution_count": 11,
   "id": "ac358569",
   "metadata": {},
   "outputs": [
    {
     "data": {
      "text/plain": [
       "['Business Data Analyst - Database Design/Mining',\n",
       " 'Data Analyst',\n",
       " 'Data Analyst',\n",
       " 'Data Analyst',\n",
       " 'Senior Data Analyst',\n",
       " 'Sr Business Data Analyst',\n",
       " 'Business Data Analyst - MIS & Reporting',\n",
       " 'Business Data Analyst',\n",
       " 'Senior Data Analyst - SQL/Tableau/Redshift',\n",
       " 'Power BI - Data Analyst - Biocon Biologics']"
      ]
     },
     "execution_count": 11,
     "metadata": {},
     "output_type": "execute_result"
    }
   ],
   "source": [
    "for i in titles_tags:\n",
    "    title=i.text\n",
    "    job_titles.append(title)\n",
    "job_titles[0:10]    \n",
    "    "
   ]
  },
  {
   "cell_type": "code",
   "execution_count": 12,
   "id": "b2493604",
   "metadata": {},
   "outputs": [
    {
     "name": "stderr",
     "output_type": "stream",
     "text": [
      "<ipython-input-12-e396278fca32>:1: DeprecationWarning: find_elements_by_* commands are deprecated. Please use find_elements() instead\n",
      "  companies_tags=driver.find_elements_by_xpath(\"//a[@class='subTitle ellipsis fleft']\")\n"
     ]
    },
    {
     "data": {
      "text/plain": [
       "[<selenium.webdriver.remote.webelement.WebElement (session=\"62fb28b84806510793cc73993a8af6e6\", element=\"bb158c58-a244-41b0-abd0-4fd1209e3906\")>,\n",
       " <selenium.webdriver.remote.webelement.WebElement (session=\"62fb28b84806510793cc73993a8af6e6\", element=\"2a000908-362b-4d58-9e7d-da148b1c6a68\")>,\n",
       " <selenium.webdriver.remote.webelement.WebElement (session=\"62fb28b84806510793cc73993a8af6e6\", element=\"986f7b8f-27b2-4e02-8aa0-e73321c6b626\")>,\n",
       " <selenium.webdriver.remote.webelement.WebElement (session=\"62fb28b84806510793cc73993a8af6e6\", element=\"5e6fb0c8-94dc-4b95-8d94-91adcd93ec15\")>,\n",
       " <selenium.webdriver.remote.webelement.WebElement (session=\"62fb28b84806510793cc73993a8af6e6\", element=\"60d8d2e4-0f8e-4c7f-8974-fa7700d58a1a\")>,\n",
       " <selenium.webdriver.remote.webelement.WebElement (session=\"62fb28b84806510793cc73993a8af6e6\", element=\"ceb4752b-5def-4bb9-98b0-ccee71834675\")>,\n",
       " <selenium.webdriver.remote.webelement.WebElement (session=\"62fb28b84806510793cc73993a8af6e6\", element=\"5f8d0e97-6b03-4d18-b566-e53904d029e6\")>,\n",
       " <selenium.webdriver.remote.webelement.WebElement (session=\"62fb28b84806510793cc73993a8af6e6\", element=\"6057144f-7bf3-4b99-aa52-a903b2dee522\")>,\n",
       " <selenium.webdriver.remote.webelement.WebElement (session=\"62fb28b84806510793cc73993a8af6e6\", element=\"bf79c78a-6de1-4825-8918-2217aa554666\")>,\n",
       " <selenium.webdriver.remote.webelement.WebElement (session=\"62fb28b84806510793cc73993a8af6e6\", element=\"b2f7a0b7-21de-461a-90ec-5a7162ad1034\")>]"
      ]
     },
     "execution_count": 12,
     "metadata": {},
     "output_type": "execute_result"
    }
   ],
   "source": [
    "companies_tags=driver.find_elements_by_xpath(\"//a[@class='subTitle ellipsis fleft']\")\n",
    "companies_tags[0:10]"
   ]
  },
  {
   "cell_type": "code",
   "execution_count": 13,
   "id": "e35f8337",
   "metadata": {},
   "outputs": [
    {
     "data": {
      "text/plain": [
       "['AugmatrixGo',\n",
       " 'Applied Materials',\n",
       " 'Shell',\n",
       " 'Shell',\n",
       " 'Utthunga Technologies Pvt Ltd',\n",
       " 'ExecBoardinAsia',\n",
       " 'INTERTRUST GROUP',\n",
       " 'NetApp',\n",
       " 'Pronto Consulting Services',\n",
       " 'BIOCON BIOLOGICS LIMITED']"
      ]
     },
     "execution_count": 13,
     "metadata": {},
     "output_type": "execute_result"
    }
   ],
   "source": [
    "for i in companies_tags:\n",
    "    company_name=i.text\n",
    "    company_names.append(company_name)\n",
    "company_names[0:10]    "
   ]
  },
  {
   "cell_type": "code",
   "execution_count": 14,
   "id": "8941bcdc",
   "metadata": {},
   "outputs": [
    {
     "name": "stderr",
     "output_type": "stream",
     "text": [
      "<ipython-input-14-933124090294>:1: DeprecationWarning: find_elements_by_* commands are deprecated. Please use find_elements() instead\n",
      "  location_tags=driver.find_elements_by_xpath(\"//li[@class='fleft grey-text br2 placeHolderLi location']/span[1]\")\n"
     ]
    },
    {
     "data": {
      "text/plain": [
       "[<selenium.webdriver.remote.webelement.WebElement (session=\"62fb28b84806510793cc73993a8af6e6\", element=\"bebc728a-52dd-4a9f-abfb-51cd7fb75ad6\")>,\n",
       " <selenium.webdriver.remote.webelement.WebElement (session=\"62fb28b84806510793cc73993a8af6e6\", element=\"b0518ae2-15b7-4ef9-af57-3e4c24f1072f\")>,\n",
       " <selenium.webdriver.remote.webelement.WebElement (session=\"62fb28b84806510793cc73993a8af6e6\", element=\"2ed90fc3-2376-443e-9051-3aaf0e36f53c\")>,\n",
       " <selenium.webdriver.remote.webelement.WebElement (session=\"62fb28b84806510793cc73993a8af6e6\", element=\"e701dca1-a595-443f-b698-6847acba3485\")>,\n",
       " <selenium.webdriver.remote.webelement.WebElement (session=\"62fb28b84806510793cc73993a8af6e6\", element=\"0a88a03c-8bec-4d94-bae5-f389903c1f24\")>,\n",
       " <selenium.webdriver.remote.webelement.WebElement (session=\"62fb28b84806510793cc73993a8af6e6\", element=\"bae535a4-4314-4b5d-923b-df7660ad8b4a\")>,\n",
       " <selenium.webdriver.remote.webelement.WebElement (session=\"62fb28b84806510793cc73993a8af6e6\", element=\"235b591e-8524-44fb-94a4-e35ff03dc364\")>,\n",
       " <selenium.webdriver.remote.webelement.WebElement (session=\"62fb28b84806510793cc73993a8af6e6\", element=\"cf56eab0-467d-4c76-a784-b31d84ef0772\")>,\n",
       " <selenium.webdriver.remote.webelement.WebElement (session=\"62fb28b84806510793cc73993a8af6e6\", element=\"deee2456-d82f-4336-9a29-c30393666f79\")>,\n",
       " <selenium.webdriver.remote.webelement.WebElement (session=\"62fb28b84806510793cc73993a8af6e6\", element=\"059ca3db-1cde-4040-97b3-cbbc4f18b325\")>]"
      ]
     },
     "execution_count": 14,
     "metadata": {},
     "output_type": "execute_result"
    }
   ],
   "source": [
    "location_tags=driver.find_elements_by_xpath(\"//li[@class='fleft grey-text br2 placeHolderLi location']/span[1]\")\n",
    "location_tags[0:10]"
   ]
  },
  {
   "cell_type": "code",
   "execution_count": 15,
   "id": "3d80604c",
   "metadata": {},
   "outputs": [
    {
     "data": {
      "text/plain": [
       "['Bangalore/Bengaluru',\n",
       " 'Bangalore/Bengaluru',\n",
       " 'Bangalore/Bengaluru',\n",
       " 'Bangalore/Bengaluru',\n",
       " 'Bangalore/Bengaluru',\n",
       " 'Bangalore/Bengaluru',\n",
       " 'Mumbai, Bangalore/Bengaluru',\n",
       " 'Bangalore/Bengaluru',\n",
       " 'Noida, Mumbai, Indore, Hyderabad/Secunderabad, Pune, Chennai, Bangalore/Bengaluru',\n",
       " 'Bangalore/Bengaluru']"
      ]
     },
     "execution_count": 15,
     "metadata": {},
     "output_type": "execute_result"
    }
   ],
   "source": [
    "for i in location_tags:\n",
    "    location=i.text\n",
    "    locations_list.append(location)\n",
    "locations_list[0:10]   \n",
    "    "
   ]
  },
  {
   "cell_type": "code",
   "execution_count": 16,
   "id": "24d3d099",
   "metadata": {},
   "outputs": [
    {
     "name": "stderr",
     "output_type": "stream",
     "text": [
      "<ipython-input-16-61cea9fcaa05>:1: DeprecationWarning: find_elements_by_* commands are deprecated. Please use find_elements() instead\n",
      "  experience_tags=driver.find_elements_by_xpath(\"//li[@class='fleft grey-text br2 placeHolderLi experience']/span[1]\")\n"
     ]
    },
    {
     "data": {
      "text/plain": [
       "[<selenium.webdriver.remote.webelement.WebElement (session=\"62fb28b84806510793cc73993a8af6e6\", element=\"1fba05bd-57ee-45a7-94dc-067dc48d0aed\")>,\n",
       " <selenium.webdriver.remote.webelement.WebElement (session=\"62fb28b84806510793cc73993a8af6e6\", element=\"fe04b3d5-943d-422b-88bf-747bacd1f2d5\")>,\n",
       " <selenium.webdriver.remote.webelement.WebElement (session=\"62fb28b84806510793cc73993a8af6e6\", element=\"a87a3198-2be2-4152-a17a-c659f5e23b11\")>,\n",
       " <selenium.webdriver.remote.webelement.WebElement (session=\"62fb28b84806510793cc73993a8af6e6\", element=\"556b4213-5e04-455a-bdbf-a2267e7ca3ce\")>,\n",
       " <selenium.webdriver.remote.webelement.WebElement (session=\"62fb28b84806510793cc73993a8af6e6\", element=\"6bd12836-fe78-4c08-9fd6-f2c0eed2f1f8\")>,\n",
       " <selenium.webdriver.remote.webelement.WebElement (session=\"62fb28b84806510793cc73993a8af6e6\", element=\"22feb13d-e369-4e89-b0fa-8f92b4fac021\")>,\n",
       " <selenium.webdriver.remote.webelement.WebElement (session=\"62fb28b84806510793cc73993a8af6e6\", element=\"e06ccde2-f6b9-41da-95c1-b89e7092c283\")>,\n",
       " <selenium.webdriver.remote.webelement.WebElement (session=\"62fb28b84806510793cc73993a8af6e6\", element=\"9ccb178e-5d27-4c4f-b6cb-542d06d8bf6b\")>,\n",
       " <selenium.webdriver.remote.webelement.WebElement (session=\"62fb28b84806510793cc73993a8af6e6\", element=\"2dbd1982-17bf-499c-b769-3dd65e05b5ec\")>,\n",
       " <selenium.webdriver.remote.webelement.WebElement (session=\"62fb28b84806510793cc73993a8af6e6\", element=\"668bee04-0d8d-48b0-97dd-151ddb3fc012\")>]"
      ]
     },
     "execution_count": 16,
     "metadata": {},
     "output_type": "execute_result"
    }
   ],
   "source": [
    "experience_tags=driver.find_elements_by_xpath(\"//li[@class='fleft grey-text br2 placeHolderLi experience']/span[1]\")\n",
    "experience_tags[0:10]"
   ]
  },
  {
   "cell_type": "code",
   "execution_count": 17,
   "id": "b4945fca",
   "metadata": {},
   "outputs": [
    {
     "data": {
      "text/plain": [
       "['2-5 Yrs',\n",
       " '0-3 Yrs',\n",
       " '5-8 Yrs',\n",
       " '5-10 Yrs',\n",
       " '3-4 Yrs',\n",
       " '5-10 Yrs',\n",
       " '3-8 Yrs',\n",
       " '5-10 Yrs',\n",
       " '6-10 Yrs',\n",
       " '3-8 Yrs']"
      ]
     },
     "execution_count": 17,
     "metadata": {},
     "output_type": "execute_result"
    }
   ],
   "source": [
    "for i in experience_tags:\n",
    "    experience=i.text\n",
    "    experience_list.append(experience)\n",
    "experience_list[0:10]    \n",
    "    "
   ]
  },
  {
   "cell_type": "code",
   "execution_count": 18,
   "id": "b20cf102",
   "metadata": {},
   "outputs": [
    {
     "name": "stdout",
     "output_type": "stream",
     "text": [
      "20 20 20 20\n"
     ]
    }
   ],
   "source": [
    "print(len(job_titles),len(company_names),len(experience_list),len(locations_list))"
   ]
  },
  {
   "cell_type": "code",
   "execution_count": 19,
   "id": "4c32e177",
   "metadata": {},
   "outputs": [],
   "source": [
    "import pandas as pd\n",
    "jobs=pd.DataFrame({})\n",
    "jobs['title']=job_titles[0:10]\n",
    "jobs['company']=company_names[0:10]\n",
    "jobs['location']=locations_list[0:10]\n",
    "jobs['experience_required']=experience_list[0:10]"
   ]
  },
  {
   "cell_type": "code",
   "execution_count": 20,
   "id": "70efde2a",
   "metadata": {},
   "outputs": [
    {
     "data": {
      "text/html": [
       "<div>\n",
       "<style scoped>\n",
       "    .dataframe tbody tr th:only-of-type {\n",
       "        vertical-align: middle;\n",
       "    }\n",
       "\n",
       "    .dataframe tbody tr th {\n",
       "        vertical-align: top;\n",
       "    }\n",
       "\n",
       "    .dataframe thead th {\n",
       "        text-align: right;\n",
       "    }\n",
       "</style>\n",
       "<table border=\"1\" class=\"dataframe\">\n",
       "  <thead>\n",
       "    <tr style=\"text-align: right;\">\n",
       "      <th></th>\n",
       "      <th>title</th>\n",
       "      <th>company</th>\n",
       "      <th>location</th>\n",
       "      <th>experience_required</th>\n",
       "    </tr>\n",
       "  </thead>\n",
       "  <tbody>\n",
       "    <tr>\n",
       "      <th>0</th>\n",
       "      <td>Business Data Analyst - Database Design/Mining</td>\n",
       "      <td>AugmatrixGo</td>\n",
       "      <td>Bangalore/Bengaluru</td>\n",
       "      <td>2-5 Yrs</td>\n",
       "    </tr>\n",
       "    <tr>\n",
       "      <th>1</th>\n",
       "      <td>Data Analyst</td>\n",
       "      <td>Applied Materials</td>\n",
       "      <td>Bangalore/Bengaluru</td>\n",
       "      <td>0-3 Yrs</td>\n",
       "    </tr>\n",
       "    <tr>\n",
       "      <th>2</th>\n",
       "      <td>Data Analyst</td>\n",
       "      <td>Shell</td>\n",
       "      <td>Bangalore/Bengaluru</td>\n",
       "      <td>5-8 Yrs</td>\n",
       "    </tr>\n",
       "    <tr>\n",
       "      <th>3</th>\n",
       "      <td>Data Analyst</td>\n",
       "      <td>Shell</td>\n",
       "      <td>Bangalore/Bengaluru</td>\n",
       "      <td>5-10 Yrs</td>\n",
       "    </tr>\n",
       "    <tr>\n",
       "      <th>4</th>\n",
       "      <td>Senior Data Analyst</td>\n",
       "      <td>Utthunga Technologies Pvt Ltd</td>\n",
       "      <td>Bangalore/Bengaluru</td>\n",
       "      <td>3-4 Yrs</td>\n",
       "    </tr>\n",
       "    <tr>\n",
       "      <th>5</th>\n",
       "      <td>Sr Business Data Analyst</td>\n",
       "      <td>ExecBoardinAsia</td>\n",
       "      <td>Bangalore/Bengaluru</td>\n",
       "      <td>5-10 Yrs</td>\n",
       "    </tr>\n",
       "    <tr>\n",
       "      <th>6</th>\n",
       "      <td>Business Data Analyst - MIS &amp; Reporting</td>\n",
       "      <td>INTERTRUST GROUP</td>\n",
       "      <td>Mumbai, Bangalore/Bengaluru</td>\n",
       "      <td>3-8 Yrs</td>\n",
       "    </tr>\n",
       "    <tr>\n",
       "      <th>7</th>\n",
       "      <td>Business Data Analyst</td>\n",
       "      <td>NetApp</td>\n",
       "      <td>Bangalore/Bengaluru</td>\n",
       "      <td>5-10 Yrs</td>\n",
       "    </tr>\n",
       "    <tr>\n",
       "      <th>8</th>\n",
       "      <td>Senior Data Analyst - SQL/Tableau/Redshift</td>\n",
       "      <td>Pronto Consulting Services</td>\n",
       "      <td>Noida, Mumbai, Indore, Hyderabad/Secunderabad,...</td>\n",
       "      <td>6-10 Yrs</td>\n",
       "    </tr>\n",
       "    <tr>\n",
       "      <th>9</th>\n",
       "      <td>Power BI - Data Analyst - Biocon Biologics</td>\n",
       "      <td>BIOCON BIOLOGICS LIMITED</td>\n",
       "      <td>Bangalore/Bengaluru</td>\n",
       "      <td>3-8 Yrs</td>\n",
       "    </tr>\n",
       "  </tbody>\n",
       "</table>\n",
       "</div>"
      ],
      "text/plain": [
       "                                            title  \\\n",
       "0  Business Data Analyst - Database Design/Mining   \n",
       "1                                    Data Analyst   \n",
       "2                                    Data Analyst   \n",
       "3                                    Data Analyst   \n",
       "4                             Senior Data Analyst   \n",
       "5                        Sr Business Data Analyst   \n",
       "6         Business Data Analyst - MIS & Reporting   \n",
       "7                           Business Data Analyst   \n",
       "8      Senior Data Analyst - SQL/Tableau/Redshift   \n",
       "9      Power BI - Data Analyst - Biocon Biologics   \n",
       "\n",
       "                         company  \\\n",
       "0                    AugmatrixGo   \n",
       "1              Applied Materials   \n",
       "2                          Shell   \n",
       "3                          Shell   \n",
       "4  Utthunga Technologies Pvt Ltd   \n",
       "5                ExecBoardinAsia   \n",
       "6               INTERTRUST GROUP   \n",
       "7                         NetApp   \n",
       "8     Pronto Consulting Services   \n",
       "9       BIOCON BIOLOGICS LIMITED   \n",
       "\n",
       "                                            location experience_required  \n",
       "0                                Bangalore/Bengaluru             2-5 Yrs  \n",
       "1                                Bangalore/Bengaluru             0-3 Yrs  \n",
       "2                                Bangalore/Bengaluru             5-8 Yrs  \n",
       "3                                Bangalore/Bengaluru            5-10 Yrs  \n",
       "4                                Bangalore/Bengaluru             3-4 Yrs  \n",
       "5                                Bangalore/Bengaluru            5-10 Yrs  \n",
       "6                        Mumbai, Bangalore/Bengaluru             3-8 Yrs  \n",
       "7                                Bangalore/Bengaluru            5-10 Yrs  \n",
       "8  Noida, Mumbai, Indore, Hyderabad/Secunderabad,...            6-10 Yrs  \n",
       "9                                Bangalore/Bengaluru             3-8 Yrs  "
      ]
     },
     "execution_count": 20,
     "metadata": {},
     "output_type": "execute_result"
    }
   ],
   "source": [
    "jobs"
   ]
  },
  {
   "cell_type": "code",
   "execution_count": 21,
   "id": "5af69d97",
   "metadata": {},
   "outputs": [],
   "source": [
    "#Question 2- Write a python program to scrape data for “Data Scientist” Job position in “Bangalore” location. You have to scrape the job-title, job-location, company_name. You have to scrape first 10 jobs data.\n",
    "\n",
    "driver.get('https://www.naukri.com/')"
   ]
  },
  {
   "cell_type": "code",
   "execution_count": 58,
   "id": "60ee43d4",
   "metadata": {},
   "outputs": [
    {
     "name": "stderr",
     "output_type": "stream",
     "text": [
      "<ipython-input-58-8f5c6090a0a4>:1: DeprecationWarning: find_element_by_* commands are deprecated. Please use find_element() instead\n",
      "  search_job = driver.find_element_by_id('qsb-keyword-sugg')\n",
      "<ipython-input-58-8f5c6090a0a4>:3: DeprecationWarning: find_element_by_* commands are deprecated. Please use find_element() instead\n",
      "  search_loc = driver.find_element_by_xpath(\"//input[@id='qsb-location-sugg']\")\n"
     ]
    }
   ],
   "source": [
    "search_job = driver.find_element_by_id('qsb-keyword-sugg')\n",
    "search_job.send_keys('Data Scientist')\n",
    "search_loc = driver.find_element_by_xpath(\"//input[@id='qsb-location-sugg']\")\n",
    "search_loc.send_keys('Bangalore')"
   ]
  },
  {
   "cell_type": "code",
   "execution_count": 59,
   "id": "405a7b20",
   "metadata": {},
   "outputs": [
    {
     "name": "stderr",
     "output_type": "stream",
     "text": [
      "<ipython-input-59-c9b437d84350>:1: DeprecationWarning: find_element_by_* commands are deprecated. Please use find_element() instead\n",
      "  search_btn = driver.find_element_by_xpath(\"//div[@class='search-btn']/button\")\n"
     ]
    }
   ],
   "source": [
    "search_btn = driver.find_element_by_xpath(\"//div[@class='search-btn']/button\")\n",
    "search_btn.click()"
   ]
  },
  {
   "cell_type": "code",
   "execution_count": 60,
   "id": "1ebbab23",
   "metadata": {},
   "outputs": [],
   "source": [
    "url=\"https://www.naukri.com/data-scientist-jobs-in-bangalore-bengaluru?k=data%20scientist&l=bangalore%2Fbengaluru\""
   ]
  },
  {
   "cell_type": "code",
   "execution_count": 62,
   "id": "5401c666",
   "metadata": {},
   "outputs": [],
   "source": [
    "driver.get(url)"
   ]
  },
  {
   "cell_type": "code",
   "execution_count": 63,
   "id": "126a1451",
   "metadata": {},
   "outputs": [],
   "source": [
    "job_titles=[]\n",
    "company_names=[]\n",
    "locations_list=[]\n",
    "experience_list=[]"
   ]
  },
  {
   "cell_type": "code",
   "execution_count": 64,
   "id": "813ef7da",
   "metadata": {},
   "outputs": [
    {
     "name": "stderr",
     "output_type": "stream",
     "text": [
      "<ipython-input-64-6a62be88574a>:1: DeprecationWarning: find_elements_by_* commands are deprecated. Please use find_elements() instead\n",
      "  titles_tags=driver.find_elements_by_xpath(\"//a[@class='title fw500 ellipsis']\")\n"
     ]
    },
    {
     "data": {
      "text/plain": [
       "[<selenium.webdriver.remote.webelement.WebElement (session=\"62fb28b84806510793cc73993a8af6e6\", element=\"6087c4b2-bbe7-4f43-975f-c60293398ec1\")>,\n",
       " <selenium.webdriver.remote.webelement.WebElement (session=\"62fb28b84806510793cc73993a8af6e6\", element=\"508c91b5-890c-43ff-866e-2bc3309b7c70\")>,\n",
       " <selenium.webdriver.remote.webelement.WebElement (session=\"62fb28b84806510793cc73993a8af6e6\", element=\"b2166e31-b988-4f8c-9bfe-808f550ceb76\")>,\n",
       " <selenium.webdriver.remote.webelement.WebElement (session=\"62fb28b84806510793cc73993a8af6e6\", element=\"65920295-f3e0-405c-91db-c71e4808a712\")>,\n",
       " <selenium.webdriver.remote.webelement.WebElement (session=\"62fb28b84806510793cc73993a8af6e6\", element=\"f59560d4-f678-433b-922a-1a173b83c7e9\")>,\n",
       " <selenium.webdriver.remote.webelement.WebElement (session=\"62fb28b84806510793cc73993a8af6e6\", element=\"6bb5cfbf-07bc-471e-bb03-6ddc9b0970f1\")>,\n",
       " <selenium.webdriver.remote.webelement.WebElement (session=\"62fb28b84806510793cc73993a8af6e6\", element=\"0f2ed50c-035d-48ed-a16e-dc7034132825\")>,\n",
       " <selenium.webdriver.remote.webelement.WebElement (session=\"62fb28b84806510793cc73993a8af6e6\", element=\"c5a638ef-8186-460b-8226-003becb9e4d6\")>,\n",
       " <selenium.webdriver.remote.webelement.WebElement (session=\"62fb28b84806510793cc73993a8af6e6\", element=\"6052ffa3-075b-441c-8bbf-d49220dfd72d\")>,\n",
       " <selenium.webdriver.remote.webelement.WebElement (session=\"62fb28b84806510793cc73993a8af6e6\", element=\"4c31fe7c-ee59-4216-9986-dd079c0c7fd5\")>]"
      ]
     },
     "execution_count": 64,
     "metadata": {},
     "output_type": "execute_result"
    }
   ],
   "source": [
    "titles_tags=driver.find_elements_by_xpath(\"//a[@class='title fw500 ellipsis']\")\n",
    "titles_tags[0:10]"
   ]
  },
  {
   "cell_type": "code",
   "execution_count": 65,
   "id": "51a2a730",
   "metadata": {},
   "outputs": [
    {
     "data": {
      "text/plain": [
       "['Data Scientist',\n",
       " 'Data Scientist',\n",
       " 'Senior Data Scientist | Fortune 500 Supermarket Chain',\n",
       " 'Senior Data Scientist',\n",
       " 'Data Scientist',\n",
       " 'Hiring For AI Architect / Lead Data Scientist - Bangalore -Iqvia',\n",
       " 'Lead Data Scientist, Presales',\n",
       " 'Lead Data Scientist/Lead ML Scientist',\n",
       " 'Senior Data Scientist',\n",
       " 'Senior / Lead Data Scientist']"
      ]
     },
     "execution_count": 65,
     "metadata": {},
     "output_type": "execute_result"
    }
   ],
   "source": [
    "for i in titles_tags:\n",
    "    title=i.text\n",
    "    job_titles.append(title)\n",
    "job_titles[0:10]    \n",
    "    "
   ]
  },
  {
   "cell_type": "code",
   "execution_count": 66,
   "id": "e8ed43ab",
   "metadata": {},
   "outputs": [
    {
     "name": "stderr",
     "output_type": "stream",
     "text": [
      "<ipython-input-66-e396278fca32>:1: DeprecationWarning: find_elements_by_* commands are deprecated. Please use find_elements() instead\n",
      "  companies_tags=driver.find_elements_by_xpath(\"//a[@class='subTitle ellipsis fleft']\")\n"
     ]
    },
    {
     "data": {
      "text/plain": [
       "[<selenium.webdriver.remote.webelement.WebElement (session=\"62fb28b84806510793cc73993a8af6e6\", element=\"8548a8fb-4f75-4245-a25c-f8bc864f8a8d\")>,\n",
       " <selenium.webdriver.remote.webelement.WebElement (session=\"62fb28b84806510793cc73993a8af6e6\", element=\"018027ca-59e1-4446-8ec7-8047e86f6101\")>,\n",
       " <selenium.webdriver.remote.webelement.WebElement (session=\"62fb28b84806510793cc73993a8af6e6\", element=\"490db2c6-e15b-4b69-88e9-8cb494b4aaf5\")>,\n",
       " <selenium.webdriver.remote.webelement.WebElement (session=\"62fb28b84806510793cc73993a8af6e6\", element=\"d0c71225-90bd-4374-9c20-dc7384e0b21a\")>,\n",
       " <selenium.webdriver.remote.webelement.WebElement (session=\"62fb28b84806510793cc73993a8af6e6\", element=\"a51a2e4c-4ed2-4709-b414-f73fd312f953\")>,\n",
       " <selenium.webdriver.remote.webelement.WebElement (session=\"62fb28b84806510793cc73993a8af6e6\", element=\"ab826fb4-2935-4528-ab5c-830e30467367\")>,\n",
       " <selenium.webdriver.remote.webelement.WebElement (session=\"62fb28b84806510793cc73993a8af6e6\", element=\"2650d991-df8b-44e8-bc80-1f2b92156255\")>,\n",
       " <selenium.webdriver.remote.webelement.WebElement (session=\"62fb28b84806510793cc73993a8af6e6\", element=\"258545aa-505f-40ca-bf39-dfd176e93672\")>,\n",
       " <selenium.webdriver.remote.webelement.WebElement (session=\"62fb28b84806510793cc73993a8af6e6\", element=\"0bacc837-5b7e-482f-9b5c-b5a87399aa79\")>,\n",
       " <selenium.webdriver.remote.webelement.WebElement (session=\"62fb28b84806510793cc73993a8af6e6\", element=\"dfcf66df-65cb-487e-a974-b72ebf40a8e6\")>]"
      ]
     },
     "execution_count": 66,
     "metadata": {},
     "output_type": "execute_result"
    }
   ],
   "source": [
    "companies_tags=driver.find_elements_by_xpath(\"//a[@class='subTitle ellipsis fleft']\")\n",
    "companies_tags[0:10]"
   ]
  },
  {
   "cell_type": "code",
   "execution_count": 67,
   "id": "ed90f4af",
   "metadata": {},
   "outputs": [
    {
     "data": {
      "text/plain": [
       "['Amazon',\n",
       " 'Alstom Transport India Ltd.',\n",
       " 'TALENT500 TECH (INDIA) PRIVATE LIMITED',\n",
       " 'Santechture',\n",
       " 'Evalueserve',\n",
       " 'IQVIA RDS India Pvt Ltd',\n",
       " 'Moveworks',\n",
       " 'ExecBoardinAsia',\n",
       " 'Easy Recruit',\n",
       " 'Bukuwarung']"
      ]
     },
     "execution_count": 67,
     "metadata": {},
     "output_type": "execute_result"
    }
   ],
   "source": [
    "for i in companies_tags:\n",
    "    company_name=i.text\n",
    "    company_names.append(company_name)\n",
    "company_names[0:10]    "
   ]
  },
  {
   "cell_type": "code",
   "execution_count": 69,
   "id": "5dc6f300",
   "metadata": {},
   "outputs": [
    {
     "name": "stderr",
     "output_type": "stream",
     "text": [
      "<ipython-input-69-61cea9fcaa05>:1: DeprecationWarning: find_elements_by_* commands are deprecated. Please use find_elements() instead\n",
      "  experience_tags=driver.find_elements_by_xpath(\"//li[@class='fleft grey-text br2 placeHolderLi experience']/span[1]\")\n"
     ]
    },
    {
     "data": {
      "text/plain": [
       "[<selenium.webdriver.remote.webelement.WebElement (session=\"62fb28b84806510793cc73993a8af6e6\", element=\"60dfe4cb-f0b4-4046-ac58-8377bf23642e\")>,\n",
       " <selenium.webdriver.remote.webelement.WebElement (session=\"62fb28b84806510793cc73993a8af6e6\", element=\"b6f394f4-d677-4279-9c89-816dbe0a77d6\")>,\n",
       " <selenium.webdriver.remote.webelement.WebElement (session=\"62fb28b84806510793cc73993a8af6e6\", element=\"1b9076ca-6480-4cd7-b3dc-b75c072fa9ea\")>,\n",
       " <selenium.webdriver.remote.webelement.WebElement (session=\"62fb28b84806510793cc73993a8af6e6\", element=\"6135d2e9-2b88-4f43-a593-8a2c7fef47d3\")>,\n",
       " <selenium.webdriver.remote.webelement.WebElement (session=\"62fb28b84806510793cc73993a8af6e6\", element=\"3348a317-2e92-461d-93e0-693152480967\")>,\n",
       " <selenium.webdriver.remote.webelement.WebElement (session=\"62fb28b84806510793cc73993a8af6e6\", element=\"277e500b-9195-4a79-baa2-95bd1888ee6f\")>,\n",
       " <selenium.webdriver.remote.webelement.WebElement (session=\"62fb28b84806510793cc73993a8af6e6\", element=\"f41f3954-5ab0-43a6-9e36-e52c031917d9\")>,\n",
       " <selenium.webdriver.remote.webelement.WebElement (session=\"62fb28b84806510793cc73993a8af6e6\", element=\"212a09fc-9969-47d4-b1e6-05454b54a9e5\")>,\n",
       " <selenium.webdriver.remote.webelement.WebElement (session=\"62fb28b84806510793cc73993a8af6e6\", element=\"9e0068d8-0c9a-4b70-a314-794b58234585\")>,\n",
       " <selenium.webdriver.remote.webelement.WebElement (session=\"62fb28b84806510793cc73993a8af6e6\", element=\"f3cd8945-5fbe-4919-9792-63a7b51972e3\")>]"
      ]
     },
     "execution_count": 69,
     "metadata": {},
     "output_type": "execute_result"
    }
   ],
   "source": [
    "experience_tags=driver.find_elements_by_xpath(\"//li[@class='fleft grey-text br2 placeHolderLi experience']/span[1]\")\n",
    "experience_tags[0:10]"
   ]
  },
  {
   "cell_type": "code",
   "execution_count": 70,
   "id": "ab96c17e",
   "metadata": {},
   "outputs": [
    {
     "data": {
      "text/plain": [
       "['7-11 Yrs',\n",
       " '5-10 Yrs',\n",
       " '7-10 Yrs',\n",
       " '7-12 Yrs',\n",
       " '4-8 Yrs',\n",
       " '7-12 Yrs',\n",
       " '7-12 Yrs',\n",
       " '11-15 Yrs',\n",
       " '8-11 Yrs',\n",
       " '5-10 Yrs']"
      ]
     },
     "execution_count": 70,
     "metadata": {},
     "output_type": "execute_result"
    }
   ],
   "source": [
    "for i in experience_tags:\n",
    "    experience=i.text\n",
    "    experience_list.append(experience)\n",
    "experience_list[0:10]    \n",
    "    "
   ]
  },
  {
   "cell_type": "code",
   "execution_count": 71,
   "id": "eb988656",
   "metadata": {},
   "outputs": [
    {
     "name": "stderr",
     "output_type": "stream",
     "text": [
      "<ipython-input-71-933124090294>:1: DeprecationWarning: find_elements_by_* commands are deprecated. Please use find_elements() instead\n",
      "  location_tags=driver.find_elements_by_xpath(\"//li[@class='fleft grey-text br2 placeHolderLi location']/span[1]\")\n"
     ]
    },
    {
     "data": {
      "text/plain": [
       "[<selenium.webdriver.remote.webelement.WebElement (session=\"62fb28b84806510793cc73993a8af6e6\", element=\"4c14392f-6dda-45b1-8f21-d09c5296fd25\")>,\n",
       " <selenium.webdriver.remote.webelement.WebElement (session=\"62fb28b84806510793cc73993a8af6e6\", element=\"2c7027c4-9657-47e9-98d6-e10daad4d342\")>,\n",
       " <selenium.webdriver.remote.webelement.WebElement (session=\"62fb28b84806510793cc73993a8af6e6\", element=\"c0338865-fab7-4cc4-9bd2-76feffa9543b\")>,\n",
       " <selenium.webdriver.remote.webelement.WebElement (session=\"62fb28b84806510793cc73993a8af6e6\", element=\"d38f5974-60b4-4a87-9763-df83d1e3fa14\")>,\n",
       " <selenium.webdriver.remote.webelement.WebElement (session=\"62fb28b84806510793cc73993a8af6e6\", element=\"90d5c328-caa0-4ee4-8a95-a9a9c97e6a14\")>,\n",
       " <selenium.webdriver.remote.webelement.WebElement (session=\"62fb28b84806510793cc73993a8af6e6\", element=\"504534ec-d63f-4bbe-8c02-9d4e8daa2fe7\")>,\n",
       " <selenium.webdriver.remote.webelement.WebElement (session=\"62fb28b84806510793cc73993a8af6e6\", element=\"843d6408-5f54-434e-b93f-ea8fbb2d5ee2\")>,\n",
       " <selenium.webdriver.remote.webelement.WebElement (session=\"62fb28b84806510793cc73993a8af6e6\", element=\"049ba398-9d04-4aa2-b601-ee67b6395e40\")>,\n",
       " <selenium.webdriver.remote.webelement.WebElement (session=\"62fb28b84806510793cc73993a8af6e6\", element=\"e59ca4c5-92da-4c80-bfeb-5ee101d7e643\")>,\n",
       " <selenium.webdriver.remote.webelement.WebElement (session=\"62fb28b84806510793cc73993a8af6e6\", element=\"24b0c785-80ac-4135-9951-c847ffdf61d7\")>]"
      ]
     },
     "execution_count": 71,
     "metadata": {},
     "output_type": "execute_result"
    }
   ],
   "source": [
    "location_tags=driver.find_elements_by_xpath(\"//li[@class='fleft grey-text br2 placeHolderLi location']/span[1]\")\n",
    "location_tags[0:10]"
   ]
  },
  {
   "cell_type": "code",
   "execution_count": 72,
   "id": "0e99e244",
   "metadata": {},
   "outputs": [
    {
     "data": {
      "text/plain": [
       "['Hyderabad/Secunderabad, Pune, Bangalore/Bengaluru',\n",
       " 'Bangalore/Bengaluru',\n",
       " 'Bangalore/Bengaluru',\n",
       " 'Hyderabad/Secunderabad, Chennai, Bangalore/Bengaluru',\n",
       " 'Bangalore/Bengaluru',\n",
       " 'Bangalore/Bengaluru',\n",
       " 'Bangalore/Bengaluru',\n",
       " 'Bangalore/Bengaluru',\n",
       " 'Bangalore/Bengaluru',\n",
       " 'Bangalore/Bengaluru']"
      ]
     },
     "execution_count": 72,
     "metadata": {},
     "output_type": "execute_result"
    }
   ],
   "source": [
    "for i in location_tags:\n",
    "    location=i.text\n",
    "    locations_list.append(location)\n",
    "locations_list[0:10]   \n",
    "    "
   ]
  },
  {
   "cell_type": "code",
   "execution_count": 73,
   "id": "439ccf70",
   "metadata": {},
   "outputs": [
    {
     "name": "stdout",
     "output_type": "stream",
     "text": [
      "20 20 20 20\n"
     ]
    }
   ],
   "source": [
    "print(len(job_titles),len(company_names),len(experience_list),len(locations_list))"
   ]
  },
  {
   "cell_type": "code",
   "execution_count": 74,
   "id": "20ffd26f",
   "metadata": {},
   "outputs": [],
   "source": [
    "import pandas as pd\n",
    "jobs=pd.DataFrame({})\n",
    "jobs['title']=job_titles[0:10]\n",
    "jobs['company']=company_names[0:10]\n",
    "jobs['location']=locations_list[0:10]\n",
    "jobs['experience_required']=experience_list[0:10]"
   ]
  },
  {
   "cell_type": "code",
   "execution_count": 75,
   "id": "2c662dfe",
   "metadata": {},
   "outputs": [
    {
     "data": {
      "text/html": [
       "<div>\n",
       "<style scoped>\n",
       "    .dataframe tbody tr th:only-of-type {\n",
       "        vertical-align: middle;\n",
       "    }\n",
       "\n",
       "    .dataframe tbody tr th {\n",
       "        vertical-align: top;\n",
       "    }\n",
       "\n",
       "    .dataframe thead th {\n",
       "        text-align: right;\n",
       "    }\n",
       "</style>\n",
       "<table border=\"1\" class=\"dataframe\">\n",
       "  <thead>\n",
       "    <tr style=\"text-align: right;\">\n",
       "      <th></th>\n",
       "      <th>title</th>\n",
       "      <th>company</th>\n",
       "      <th>location</th>\n",
       "      <th>experience_required</th>\n",
       "    </tr>\n",
       "  </thead>\n",
       "  <tbody>\n",
       "    <tr>\n",
       "      <th>0</th>\n",
       "      <td>Data Scientist</td>\n",
       "      <td>Amazon</td>\n",
       "      <td>Hyderabad/Secunderabad, Pune, Bangalore/Bengaluru</td>\n",
       "      <td>7-11 Yrs</td>\n",
       "    </tr>\n",
       "    <tr>\n",
       "      <th>1</th>\n",
       "      <td>Data Scientist</td>\n",
       "      <td>Alstom Transport India Ltd.</td>\n",
       "      <td>Bangalore/Bengaluru</td>\n",
       "      <td>5-10 Yrs</td>\n",
       "    </tr>\n",
       "    <tr>\n",
       "      <th>2</th>\n",
       "      <td>Senior Data Scientist | Fortune 500 Supermarke...</td>\n",
       "      <td>TALENT500 TECH (INDIA) PRIVATE LIMITED</td>\n",
       "      <td>Bangalore/Bengaluru</td>\n",
       "      <td>7-10 Yrs</td>\n",
       "    </tr>\n",
       "    <tr>\n",
       "      <th>3</th>\n",
       "      <td>Senior Data Scientist</td>\n",
       "      <td>Santechture</td>\n",
       "      <td>Hyderabad/Secunderabad, Chennai, Bangalore/Ben...</td>\n",
       "      <td>7-12 Yrs</td>\n",
       "    </tr>\n",
       "    <tr>\n",
       "      <th>4</th>\n",
       "      <td>Data Scientist</td>\n",
       "      <td>Evalueserve</td>\n",
       "      <td>Bangalore/Bengaluru</td>\n",
       "      <td>4-8 Yrs</td>\n",
       "    </tr>\n",
       "    <tr>\n",
       "      <th>5</th>\n",
       "      <td>Hiring For AI Architect / Lead Data Scientist ...</td>\n",
       "      <td>IQVIA RDS India Pvt Ltd</td>\n",
       "      <td>Bangalore/Bengaluru</td>\n",
       "      <td>7-12 Yrs</td>\n",
       "    </tr>\n",
       "    <tr>\n",
       "      <th>6</th>\n",
       "      <td>Lead Data Scientist, Presales</td>\n",
       "      <td>Moveworks</td>\n",
       "      <td>Bangalore/Bengaluru</td>\n",
       "      <td>7-12 Yrs</td>\n",
       "    </tr>\n",
       "    <tr>\n",
       "      <th>7</th>\n",
       "      <td>Lead Data Scientist/Lead ML Scientist</td>\n",
       "      <td>ExecBoardinAsia</td>\n",
       "      <td>Bangalore/Bengaluru</td>\n",
       "      <td>11-15 Yrs</td>\n",
       "    </tr>\n",
       "    <tr>\n",
       "      <th>8</th>\n",
       "      <td>Senior Data Scientist</td>\n",
       "      <td>Easy Recruit</td>\n",
       "      <td>Bangalore/Bengaluru</td>\n",
       "      <td>8-11 Yrs</td>\n",
       "    </tr>\n",
       "    <tr>\n",
       "      <th>9</th>\n",
       "      <td>Senior / Lead Data Scientist</td>\n",
       "      <td>Bukuwarung</td>\n",
       "      <td>Bangalore/Bengaluru</td>\n",
       "      <td>5-10 Yrs</td>\n",
       "    </tr>\n",
       "  </tbody>\n",
       "</table>\n",
       "</div>"
      ],
      "text/plain": [
       "                                               title  \\\n",
       "0                                     Data Scientist   \n",
       "1                                     Data Scientist   \n",
       "2  Senior Data Scientist | Fortune 500 Supermarke...   \n",
       "3                              Senior Data Scientist   \n",
       "4                                     Data Scientist   \n",
       "5  Hiring For AI Architect / Lead Data Scientist ...   \n",
       "6                      Lead Data Scientist, Presales   \n",
       "7              Lead Data Scientist/Lead ML Scientist   \n",
       "8                              Senior Data Scientist   \n",
       "9                       Senior / Lead Data Scientist   \n",
       "\n",
       "                                  company  \\\n",
       "0                                  Amazon   \n",
       "1             Alstom Transport India Ltd.   \n",
       "2  TALENT500 TECH (INDIA) PRIVATE LIMITED   \n",
       "3                             Santechture   \n",
       "4                             Evalueserve   \n",
       "5                 IQVIA RDS India Pvt Ltd   \n",
       "6                               Moveworks   \n",
       "7                         ExecBoardinAsia   \n",
       "8                            Easy Recruit   \n",
       "9                              Bukuwarung   \n",
       "\n",
       "                                            location experience_required  \n",
       "0  Hyderabad/Secunderabad, Pune, Bangalore/Bengaluru            7-11 Yrs  \n",
       "1                                Bangalore/Bengaluru            5-10 Yrs  \n",
       "2                                Bangalore/Bengaluru            7-10 Yrs  \n",
       "3  Hyderabad/Secunderabad, Chennai, Bangalore/Ben...            7-12 Yrs  \n",
       "4                                Bangalore/Bengaluru             4-8 Yrs  \n",
       "5                                Bangalore/Bengaluru            7-12 Yrs  \n",
       "6                                Bangalore/Bengaluru            7-12 Yrs  \n",
       "7                                Bangalore/Bengaluru           11-15 Yrs  \n",
       "8                                Bangalore/Bengaluru            8-11 Yrs  \n",
       "9                                Bangalore/Bengaluru            5-10 Yrs  "
      ]
     },
     "execution_count": 75,
     "metadata": {},
     "output_type": "execute_result"
    }
   ],
   "source": [
    "jobs"
   ]
  },
  {
   "cell_type": "code",
   "execution_count": 79,
   "id": "710b1771",
   "metadata": {},
   "outputs": [],
   "source": [
    "#question 3-Naukri -Datascientist- Delhi - Salary(3-6lakhs)\n",
    "driver.get('https://www.naukri.com/')"
   ]
  },
  {
   "cell_type": "code",
   "execution_count": 81,
   "id": "cc6c84dc",
   "metadata": {},
   "outputs": [
    {
     "name": "stderr",
     "output_type": "stream",
     "text": [
      "<ipython-input-81-ad5f178d166c>:1: DeprecationWarning: find_element_by_* commands are deprecated. Please use find_element() instead\n",
      "  search_job = driver.find_element_by_id('qsb-keyword-sugg')\n",
      "<ipython-input-81-ad5f178d166c>:3: DeprecationWarning: find_element_by_* commands are deprecated. Please use find_element() instead\n",
      "  search_loc = driver.find_element_by_xpath(\"//input[@id='qsb-location-sugg']\")\n"
     ]
    }
   ],
   "source": [
    "search_job = driver.find_element_by_id('qsb-keyword-sugg')\n",
    "search_job.send_keys('Data Scientist')\n",
    "search_loc = driver.find_element_by_xpath(\"//input[@id='qsb-location-sugg']\")\n",
    "search_loc.send_keys('Delhi/NCR')\n",
    "salary_pack = driver.find_element_by_xpath(\"//input[@id='ellipsis fleft']/span[1]\")\n",
    "salary_pack.send_keys('3-6 Lakhs')"
   ]
  },
  {
   "cell_type": "code",
   "execution_count": 82,
   "id": "fc963d08",
   "metadata": {},
   "outputs": [
    {
     "name": "stderr",
     "output_type": "stream",
     "text": [
      "<ipython-input-82-c9b437d84350>:1: DeprecationWarning: find_element_by_* commands are deprecated. Please use find_element() instead\n",
      "  search_btn = driver.find_element_by_xpath(\"//div[@class='search-btn']/button\")\n"
     ]
    }
   ],
   "source": [
    "search_btn = driver.find_element_by_xpath(\"//div[@class='search-btn']/button\")\n",
    "search_btn.click()"
   ]
  },
  {
   "cell_type": "code",
   "execution_count": 83,
   "id": "065bc242",
   "metadata": {},
   "outputs": [],
   "source": [
    "url =\"https://www.naukri.com/data-scientist-jobs-in-delhi-ncr?k=data%20scientist&l=delhi%2Fncr&ctcFilter=3to6\""
   ]
  },
  {
   "cell_type": "code",
   "execution_count": 84,
   "id": "c48e8605",
   "metadata": {},
   "outputs": [],
   "source": [
    "driver.get(url)"
   ]
  },
  {
   "cell_type": "code",
   "execution_count": 85,
   "id": "6e3faac9",
   "metadata": {},
   "outputs": [],
   "source": [
    "job_titles=[]\n",
    "company_names=[]\n",
    "locations_list=[]\n",
    "experience_list=[]"
   ]
  },
  {
   "cell_type": "code",
   "execution_count": 86,
   "id": "b4e0cb2e",
   "metadata": {},
   "outputs": [
    {
     "name": "stderr",
     "output_type": "stream",
     "text": [
      "<ipython-input-86-6a62be88574a>:1: DeprecationWarning: find_elements_by_* commands are deprecated. Please use find_elements() instead\n",
      "  titles_tags=driver.find_elements_by_xpath(\"//a[@class='title fw500 ellipsis']\")\n"
     ]
    },
    {
     "data": {
      "text/plain": [
       "[<selenium.webdriver.remote.webelement.WebElement (session=\"62fb28b84806510793cc73993a8af6e6\", element=\"ef9d6df4-e3b0-40cd-8fd0-fd2c9e92e9e6\")>,\n",
       " <selenium.webdriver.remote.webelement.WebElement (session=\"62fb28b84806510793cc73993a8af6e6\", element=\"6ffd7ef1-7a46-497b-8509-85d7983873a7\")>,\n",
       " <selenium.webdriver.remote.webelement.WebElement (session=\"62fb28b84806510793cc73993a8af6e6\", element=\"154347ca-5d95-41b5-9d45-a003282e647b\")>,\n",
       " <selenium.webdriver.remote.webelement.WebElement (session=\"62fb28b84806510793cc73993a8af6e6\", element=\"2a32d91d-1aed-4297-ad34-b311d482230c\")>,\n",
       " <selenium.webdriver.remote.webelement.WebElement (session=\"62fb28b84806510793cc73993a8af6e6\", element=\"0f1b9485-6883-4861-9187-b72daf7c2727\")>,\n",
       " <selenium.webdriver.remote.webelement.WebElement (session=\"62fb28b84806510793cc73993a8af6e6\", element=\"5c1e1419-628a-44d8-8701-277fb057921d\")>,\n",
       " <selenium.webdriver.remote.webelement.WebElement (session=\"62fb28b84806510793cc73993a8af6e6\", element=\"2bf7081d-16a5-4d45-bfe4-207143ad75f8\")>,\n",
       " <selenium.webdriver.remote.webelement.WebElement (session=\"62fb28b84806510793cc73993a8af6e6\", element=\"37b2d99c-1286-463f-b08e-f0f30cc16647\")>,\n",
       " <selenium.webdriver.remote.webelement.WebElement (session=\"62fb28b84806510793cc73993a8af6e6\", element=\"7a70d044-8229-42af-80a6-eefa77c3b37c\")>,\n",
       " <selenium.webdriver.remote.webelement.WebElement (session=\"62fb28b84806510793cc73993a8af6e6\", element=\"35453b00-cf39-4b80-bee0-930d5453df7a\")>]"
      ]
     },
     "execution_count": 86,
     "metadata": {},
     "output_type": "execute_result"
    }
   ],
   "source": [
    "titles_tags=driver.find_elements_by_xpath(\"//a[@class='title fw500 ellipsis']\")\n",
    "titles_tags[0:10]"
   ]
  },
  {
   "cell_type": "code",
   "execution_count": 87,
   "id": "c77e2da2",
   "metadata": {},
   "outputs": [
    {
     "data": {
      "text/plain": [
       "['Data Scientist',\n",
       " 'Data Scientist',\n",
       " 'Data Scientist',\n",
       " 'Urgent Hiring || Data Scientist || Delhi',\n",
       " 'Job Opportunity || Data Scientist || HCL Technologies',\n",
       " 'Data Scientist',\n",
       " 'Data Scientist',\n",
       " 'Project Manager | Team Leader | Senior Data Scientist',\n",
       " 'Data Scientist',\n",
       " 'Data Scientist Internship']"
      ]
     },
     "execution_count": 87,
     "metadata": {},
     "output_type": "execute_result"
    }
   ],
   "source": [
    "for i in titles_tags:\n",
    "    title=i.text\n",
    "    job_titles.append(title)\n",
    "job_titles[0:10]    \n",
    "    "
   ]
  },
  {
   "cell_type": "code",
   "execution_count": 88,
   "id": "9e282015",
   "metadata": {},
   "outputs": [
    {
     "name": "stderr",
     "output_type": "stream",
     "text": [
      "<ipython-input-88-e396278fca32>:1: DeprecationWarning: find_elements_by_* commands are deprecated. Please use find_elements() instead\n",
      "  companies_tags=driver.find_elements_by_xpath(\"//a[@class='subTitle ellipsis fleft']\")\n"
     ]
    },
    {
     "data": {
      "text/plain": [
       "[<selenium.webdriver.remote.webelement.WebElement (session=\"62fb28b84806510793cc73993a8af6e6\", element=\"7471e365-5b19-4fb5-a579-1b9ac2fe84a1\")>,\n",
       " <selenium.webdriver.remote.webelement.WebElement (session=\"62fb28b84806510793cc73993a8af6e6\", element=\"6c07bb80-b019-4ff9-bdae-4bbb127ee941\")>,\n",
       " <selenium.webdriver.remote.webelement.WebElement (session=\"62fb28b84806510793cc73993a8af6e6\", element=\"45b4ab06-b34c-4a26-a683-179c7d4d3105\")>,\n",
       " <selenium.webdriver.remote.webelement.WebElement (session=\"62fb28b84806510793cc73993a8af6e6\", element=\"c0ebb995-3304-4b3b-98ec-34a891045633\")>,\n",
       " <selenium.webdriver.remote.webelement.WebElement (session=\"62fb28b84806510793cc73993a8af6e6\", element=\"98922837-3999-47a1-bb9b-8e43fdb9f756\")>,\n",
       " <selenium.webdriver.remote.webelement.WebElement (session=\"62fb28b84806510793cc73993a8af6e6\", element=\"75df31e2-7240-452e-85a1-49c71ee02fdd\")>,\n",
       " <selenium.webdriver.remote.webelement.WebElement (session=\"62fb28b84806510793cc73993a8af6e6\", element=\"a77a5e5a-050d-4e87-a44c-d2a0f819dcd1\")>,\n",
       " <selenium.webdriver.remote.webelement.WebElement (session=\"62fb28b84806510793cc73993a8af6e6\", element=\"86ec15cd-8295-4760-b5df-2e3c54f59f34\")>,\n",
       " <selenium.webdriver.remote.webelement.WebElement (session=\"62fb28b84806510793cc73993a8af6e6\", element=\"c1e0f5d7-c739-49fd-a885-3645c3f2c489\")>,\n",
       " <selenium.webdriver.remote.webelement.WebElement (session=\"62fb28b84806510793cc73993a8af6e6\", element=\"97a353b2-0899-4234-866e-e57456f8306c\")>]"
      ]
     },
     "execution_count": 88,
     "metadata": {},
     "output_type": "execute_result"
    }
   ],
   "source": [
    "companies_tags=driver.find_elements_by_xpath(\"//a[@class='subTitle ellipsis fleft']\")\n",
    "companies_tags[0:10]"
   ]
  },
  {
   "cell_type": "code",
   "execution_count": 89,
   "id": "c2b9c9de",
   "metadata": {},
   "outputs": [
    {
     "data": {
      "text/plain": [
       "['Think i',\n",
       " 'MoMagic Technologies Pvt. Ltd.',\n",
       " 'MoMagic Technologies Pvt. Ltd.',\n",
       " 'Shriram Automall India Limited',\n",
       " 'HCL Technologies',\n",
       " 'Optum Global Solutions (India) Private Limited',\n",
       " 'SVK Global Solutions Private Limited',\n",
       " 'Tidyquant (OPC) Private Limited',\n",
       " 'Fractal Analytics',\n",
       " 'iHackers Inc']"
      ]
     },
     "execution_count": 89,
     "metadata": {},
     "output_type": "execute_result"
    }
   ],
   "source": [
    "for i in companies_tags:\n",
    "    company_name=i.text\n",
    "    company_names.append(company_name)\n",
    "company_names[0:10]    "
   ]
  },
  {
   "cell_type": "code",
   "execution_count": 90,
   "id": "5b9f5557",
   "metadata": {},
   "outputs": [
    {
     "name": "stderr",
     "output_type": "stream",
     "text": [
      "<ipython-input-90-61cea9fcaa05>:1: DeprecationWarning: find_elements_by_* commands are deprecated. Please use find_elements() instead\n",
      "  experience_tags=driver.find_elements_by_xpath(\"//li[@class='fleft grey-text br2 placeHolderLi experience']/span[1]\")\n"
     ]
    },
    {
     "data": {
      "text/plain": [
       "[<selenium.webdriver.remote.webelement.WebElement (session=\"62fb28b84806510793cc73993a8af6e6\", element=\"c9890ee5-8a9a-4727-945e-666af18def30\")>,\n",
       " <selenium.webdriver.remote.webelement.WebElement (session=\"62fb28b84806510793cc73993a8af6e6\", element=\"0489cfaa-f606-4dea-b1bb-5468acd7e212\")>,\n",
       " <selenium.webdriver.remote.webelement.WebElement (session=\"62fb28b84806510793cc73993a8af6e6\", element=\"fe415a3a-764b-4a90-ac9e-1ca215eceb91\")>,\n",
       " <selenium.webdriver.remote.webelement.WebElement (session=\"62fb28b84806510793cc73993a8af6e6\", element=\"20e72a89-2990-4553-bf98-556f7c562db6\")>,\n",
       " <selenium.webdriver.remote.webelement.WebElement (session=\"62fb28b84806510793cc73993a8af6e6\", element=\"eaf6056c-4b31-4563-a470-615553701ac3\")>,\n",
       " <selenium.webdriver.remote.webelement.WebElement (session=\"62fb28b84806510793cc73993a8af6e6\", element=\"7d969cb3-9ad9-49ee-bfb4-ecdd425619d9\")>,\n",
       " <selenium.webdriver.remote.webelement.WebElement (session=\"62fb28b84806510793cc73993a8af6e6\", element=\"e77e974b-d4e6-4501-b747-019a2b717e5b\")>,\n",
       " <selenium.webdriver.remote.webelement.WebElement (session=\"62fb28b84806510793cc73993a8af6e6\", element=\"a8bdabbf-fa63-4233-977f-6d6091c943de\")>,\n",
       " <selenium.webdriver.remote.webelement.WebElement (session=\"62fb28b84806510793cc73993a8af6e6\", element=\"2abeea56-22c5-4037-8e7e-292f11719dd1\")>,\n",
       " <selenium.webdriver.remote.webelement.WebElement (session=\"62fb28b84806510793cc73993a8af6e6\", element=\"2feef120-4f3b-4c2e-90f6-7a9f026ae57d\")>]"
      ]
     },
     "execution_count": 90,
     "metadata": {},
     "output_type": "execute_result"
    }
   ],
   "source": [
    "experience_tags=driver.find_elements_by_xpath(\"//li[@class='fleft grey-text br2 placeHolderLi experience']/span[1]\")\n",
    "experience_tags[0:10]"
   ]
  },
  {
   "cell_type": "code",
   "execution_count": 91,
   "id": "ccb2187b",
   "metadata": {},
   "outputs": [
    {
     "data": {
      "text/plain": [
       "['0-2 Yrs',\n",
       " '4-6 Yrs',\n",
       " '4-6 Yrs',\n",
       " '2-7 Yrs',\n",
       " '4-7 Yrs',\n",
       " '2-6 Yrs',\n",
       " '6-10 Yrs',\n",
       " '2-7 Yrs',\n",
       " '3-7 Yrs',\n",
       " '0-1 Yrs']"
      ]
     },
     "execution_count": 91,
     "metadata": {},
     "output_type": "execute_result"
    }
   ],
   "source": [
    "for i in experience_tags:\n",
    "    experience=i.text\n",
    "    experience_list.append(experience)\n",
    "experience_list[0:10]    \n",
    "    "
   ]
  },
  {
   "cell_type": "code",
   "execution_count": 92,
   "id": "18aed00d",
   "metadata": {},
   "outputs": [
    {
     "name": "stderr",
     "output_type": "stream",
     "text": [
      "<ipython-input-92-933124090294>:1: DeprecationWarning: find_elements_by_* commands are deprecated. Please use find_elements() instead\n",
      "  location_tags=driver.find_elements_by_xpath(\"//li[@class='fleft grey-text br2 placeHolderLi location']/span[1]\")\n"
     ]
    },
    {
     "data": {
      "text/plain": [
       "[<selenium.webdriver.remote.webelement.WebElement (session=\"62fb28b84806510793cc73993a8af6e6\", element=\"dafe2514-33f5-4c13-b5e3-6201ddd02f7c\")>,\n",
       " <selenium.webdriver.remote.webelement.WebElement (session=\"62fb28b84806510793cc73993a8af6e6\", element=\"0909cb0c-9f13-4aab-b2a5-4f707a093560\")>,\n",
       " <selenium.webdriver.remote.webelement.WebElement (session=\"62fb28b84806510793cc73993a8af6e6\", element=\"a3c20621-7e12-452c-92d5-c4dc03d9f9a3\")>,\n",
       " <selenium.webdriver.remote.webelement.WebElement (session=\"62fb28b84806510793cc73993a8af6e6\", element=\"f37744f6-eab4-47ac-8a4c-0ba70ce2a15d\")>,\n",
       " <selenium.webdriver.remote.webelement.WebElement (session=\"62fb28b84806510793cc73993a8af6e6\", element=\"d731e148-dc36-4fce-aeb1-8a30be0df66e\")>,\n",
       " <selenium.webdriver.remote.webelement.WebElement (session=\"62fb28b84806510793cc73993a8af6e6\", element=\"06fa8807-7620-4622-8bca-751671d23891\")>,\n",
       " <selenium.webdriver.remote.webelement.WebElement (session=\"62fb28b84806510793cc73993a8af6e6\", element=\"943ce82a-60b3-44bc-affc-bb208289b83e\")>,\n",
       " <selenium.webdriver.remote.webelement.WebElement (session=\"62fb28b84806510793cc73993a8af6e6\", element=\"a9019570-f090-4e92-8613-e957ad925202\")>,\n",
       " <selenium.webdriver.remote.webelement.WebElement (session=\"62fb28b84806510793cc73993a8af6e6\", element=\"3937bb16-a731-41d0-9117-20ee85b1ae5f\")>,\n",
       " <selenium.webdriver.remote.webelement.WebElement (session=\"62fb28b84806510793cc73993a8af6e6\", element=\"a3cd42f2-4140-450c-8032-22ba2f66bb62\")>]"
      ]
     },
     "execution_count": 92,
     "metadata": {},
     "output_type": "execute_result"
    }
   ],
   "source": [
    "location_tags=driver.find_elements_by_xpath(\"//li[@class='fleft grey-text br2 placeHolderLi location']/span[1]\")\n",
    "location_tags[0:10]"
   ]
  },
  {
   "cell_type": "code",
   "execution_count": 93,
   "id": "05daddab",
   "metadata": {},
   "outputs": [
    {
     "data": {
      "text/plain": [
       "['Kochi/Cochin, Kolkata, Hyderabad/Secunderabad, Pune, Ahmedabad, Chennai, Bangalore/Bengaluru, Delhi / NCR, Mumbai (All Areas)',\n",
       " 'Noida(Sector-126 Noida)',\n",
       " 'Noida(Sector-126 Noida)',\n",
       " 'Delhi / NCR(Netaji Subhash Place)',\n",
       " 'Delhi / NCR',\n",
       " 'Noida, Gurgaon/Gurugram',\n",
       " 'Noida',\n",
       " 'Remote',\n",
       " 'Mumbai, Gurgaon/Gurugram, Bangalore/Bengaluru',\n",
       " 'New Delhi']"
      ]
     },
     "execution_count": 93,
     "metadata": {},
     "output_type": "execute_result"
    }
   ],
   "source": [
    "for i in location_tags:\n",
    "    location=i.text\n",
    "    locations_list.append(location)\n",
    "locations_list[0:10]  "
   ]
  },
  {
   "cell_type": "code",
   "execution_count": 94,
   "id": "24e1f342",
   "metadata": {},
   "outputs": [
    {
     "name": "stdout",
     "output_type": "stream",
     "text": [
      "20 20 20 20\n"
     ]
    }
   ],
   "source": [
    "print(len(job_titles),len(company_names),len(experience_list),len(locations_list))"
   ]
  },
  {
   "cell_type": "code",
   "execution_count": 95,
   "id": "e37db7d7",
   "metadata": {},
   "outputs": [],
   "source": [
    "import pandas as pd\n",
    "jobs=pd.DataFrame({})\n",
    "jobs['title']=job_titles[0:10]\n",
    "jobs['company']=company_names[0:10]\n",
    "jobs['location']=locations_list[0:10]\n",
    "jobs['experience_required']=experience_list[0:10]"
   ]
  },
  {
   "cell_type": "code",
   "execution_count": 96,
   "id": "d5df59e1",
   "metadata": {},
   "outputs": [
    {
     "data": {
      "text/html": [
       "<div>\n",
       "<style scoped>\n",
       "    .dataframe tbody tr th:only-of-type {\n",
       "        vertical-align: middle;\n",
       "    }\n",
       "\n",
       "    .dataframe tbody tr th {\n",
       "        vertical-align: top;\n",
       "    }\n",
       "\n",
       "    .dataframe thead th {\n",
       "        text-align: right;\n",
       "    }\n",
       "</style>\n",
       "<table border=\"1\" class=\"dataframe\">\n",
       "  <thead>\n",
       "    <tr style=\"text-align: right;\">\n",
       "      <th></th>\n",
       "      <th>title</th>\n",
       "      <th>company</th>\n",
       "      <th>location</th>\n",
       "      <th>experience_required</th>\n",
       "    </tr>\n",
       "  </thead>\n",
       "  <tbody>\n",
       "    <tr>\n",
       "      <th>0</th>\n",
       "      <td>Data Scientist</td>\n",
       "      <td>Think i</td>\n",
       "      <td>Kochi/Cochin, Kolkata, Hyderabad/Secunderabad,...</td>\n",
       "      <td>0-2 Yrs</td>\n",
       "    </tr>\n",
       "    <tr>\n",
       "      <th>1</th>\n",
       "      <td>Data Scientist</td>\n",
       "      <td>MoMagic Technologies Pvt. Ltd.</td>\n",
       "      <td>Noida(Sector-126 Noida)</td>\n",
       "      <td>4-6 Yrs</td>\n",
       "    </tr>\n",
       "    <tr>\n",
       "      <th>2</th>\n",
       "      <td>Data Scientist</td>\n",
       "      <td>MoMagic Technologies Pvt. Ltd.</td>\n",
       "      <td>Noida(Sector-126 Noida)</td>\n",
       "      <td>4-6 Yrs</td>\n",
       "    </tr>\n",
       "    <tr>\n",
       "      <th>3</th>\n",
       "      <td>Urgent Hiring || Data Scientist || Delhi</td>\n",
       "      <td>Shriram Automall India Limited</td>\n",
       "      <td>Delhi / NCR(Netaji Subhash Place)</td>\n",
       "      <td>2-7 Yrs</td>\n",
       "    </tr>\n",
       "    <tr>\n",
       "      <th>4</th>\n",
       "      <td>Job Opportunity || Data Scientist || HCL Techn...</td>\n",
       "      <td>HCL Technologies</td>\n",
       "      <td>Delhi / NCR</td>\n",
       "      <td>4-7 Yrs</td>\n",
       "    </tr>\n",
       "    <tr>\n",
       "      <th>5</th>\n",
       "      <td>Data Scientist</td>\n",
       "      <td>Optum Global Solutions (India) Private Limited</td>\n",
       "      <td>Noida, Gurgaon/Gurugram</td>\n",
       "      <td>2-6 Yrs</td>\n",
       "    </tr>\n",
       "    <tr>\n",
       "      <th>6</th>\n",
       "      <td>Data Scientist</td>\n",
       "      <td>SVK Global Solutions Private Limited</td>\n",
       "      <td>Noida</td>\n",
       "      <td>6-10 Yrs</td>\n",
       "    </tr>\n",
       "    <tr>\n",
       "      <th>7</th>\n",
       "      <td>Project Manager | Team Leader | Senior Data Sc...</td>\n",
       "      <td>Tidyquant (OPC) Private Limited</td>\n",
       "      <td>Remote</td>\n",
       "      <td>2-7 Yrs</td>\n",
       "    </tr>\n",
       "    <tr>\n",
       "      <th>8</th>\n",
       "      <td>Data Scientist</td>\n",
       "      <td>Fractal Analytics</td>\n",
       "      <td>Mumbai, Gurgaon/Gurugram, Bangalore/Bengaluru</td>\n",
       "      <td>3-7 Yrs</td>\n",
       "    </tr>\n",
       "    <tr>\n",
       "      <th>9</th>\n",
       "      <td>Data Scientist Internship</td>\n",
       "      <td>iHackers Inc</td>\n",
       "      <td>New Delhi</td>\n",
       "      <td>0-1 Yrs</td>\n",
       "    </tr>\n",
       "  </tbody>\n",
       "</table>\n",
       "</div>"
      ],
      "text/plain": [
       "                                               title  \\\n",
       "0                                     Data Scientist   \n",
       "1                                     Data Scientist   \n",
       "2                                     Data Scientist   \n",
       "3           Urgent Hiring || Data Scientist || Delhi   \n",
       "4  Job Opportunity || Data Scientist || HCL Techn...   \n",
       "5                                     Data Scientist   \n",
       "6                                     Data Scientist   \n",
       "7  Project Manager | Team Leader | Senior Data Sc...   \n",
       "8                                     Data Scientist   \n",
       "9                          Data Scientist Internship   \n",
       "\n",
       "                                          company  \\\n",
       "0                                         Think i   \n",
       "1                  MoMagic Technologies Pvt. Ltd.   \n",
       "2                  MoMagic Technologies Pvt. Ltd.   \n",
       "3                  Shriram Automall India Limited   \n",
       "4                                HCL Technologies   \n",
       "5  Optum Global Solutions (India) Private Limited   \n",
       "6            SVK Global Solutions Private Limited   \n",
       "7                 Tidyquant (OPC) Private Limited   \n",
       "8                               Fractal Analytics   \n",
       "9                                    iHackers Inc   \n",
       "\n",
       "                                            location experience_required  \n",
       "0  Kochi/Cochin, Kolkata, Hyderabad/Secunderabad,...             0-2 Yrs  \n",
       "1                            Noida(Sector-126 Noida)             4-6 Yrs  \n",
       "2                            Noida(Sector-126 Noida)             4-6 Yrs  \n",
       "3                  Delhi / NCR(Netaji Subhash Place)             2-7 Yrs  \n",
       "4                                        Delhi / NCR             4-7 Yrs  \n",
       "5                            Noida, Gurgaon/Gurugram             2-6 Yrs  \n",
       "6                                              Noida            6-10 Yrs  \n",
       "7                                             Remote             2-7 Yrs  \n",
       "8      Mumbai, Gurgaon/Gurugram, Bangalore/Bengaluru             3-7 Yrs  \n",
       "9                                          New Delhi             0-1 Yrs  "
      ]
     },
     "execution_count": 96,
     "metadata": {},
     "output_type": "execute_result"
    }
   ],
   "source": [
    "jobs"
   ]
  },
  {
   "cell_type": "code",
   "execution_count": null,
   "id": "1ccff988",
   "metadata": {},
   "outputs": [],
   "source": []
  }
 ],
 "metadata": {
  "kernelspec": {
   "display_name": "Python 3",
   "language": "python",
   "name": "python3"
  },
  "language_info": {
   "codemirror_mode": {
    "name": "ipython",
    "version": 3
   },
   "file_extension": ".py",
   "mimetype": "text/x-python",
   "name": "python",
   "nbconvert_exporter": "python",
   "pygments_lexer": "ipython3",
   "version": "3.8.8"
  }
 },
 "nbformat": 4,
 "nbformat_minor": 5
}
