{
 "cells": [
  {
   "cell_type": "code",
   "execution_count": 1,
   "id": "097bd6f2",
   "metadata": {},
   "outputs": [
    {
     "name": "stdout",
     "output_type": "stream",
     "text": [
      "Input a number to compute the factorial : 4\n",
      "24\n"
     ]
    }
   ],
   "source": [
    "#python program to find the factorial of a number.\n",
    "\n",
    "\n",
    "def factorial (n):\n",
    "    if n == 0:\n",
    "        return 1\n",
    "    else:\n",
    "        return n * factorial(n-1)\n",
    "n=int(input('Input a number to compute the factorial : '))\n",
    "print(factorial(n))\n",
    "    "
   ]
  },
  {
   "cell_type": "code",
   "execution_count": 2,
   "id": "1deb4db0",
   "metadata": {},
   "outputs": [
    {
     "name": "stdout",
     "output_type": "stream",
     "text": [
      "Enter the number2\n",
      "2 is a prime number\n"
     ]
    }
   ],
   "source": [
    "# python program to find whether a number is prime or composite.\n",
    "\n",
    "number = int(input('Enter the number'))\n",
    "if number > 1:\n",
    "    for i in range(2,int(number/2)+1):\n",
    "                   if (number % 1 == 0):\n",
    "                       print(number, 'is not a prime number')\n",
    "                       break\n",
    "    else:\n",
    "                   print(number,'is a prime number')\n",
    "else:\n",
    "    print(number,'is not a prime number')"
   ]
  },
  {
   "cell_type": "code",
   "execution_count": 3,
   "id": "9d6960ba",
   "metadata": {},
   "outputs": [
    {
     "name": "stdout",
     "output_type": "stream",
     "text": [
      "Enter the number9729262\n",
      "9729262 is not a prime number\n"
     ]
    }
   ],
   "source": [
    "# python program to find whether a number is prime or composite.\n",
    "\n",
    "number = int(input('Enter the number'))\n",
    "if number > 1:\n",
    "    for i in range(2,int(number/2)+1):\n",
    "                   if (number % 1 == 0):\n",
    "                       print(number, 'is not a prime number')\n",
    "                       break\n",
    "    else:\n",
    "                   print(number,'is a prime number')\n",
    "else:\n",
    "    print(number,'is not a prime number')"
   ]
  },
  {
   "cell_type": "code",
   "execution_count": 4,
   "id": "02156c0c",
   "metadata": {},
   "outputs": [
    {
     "name": "stdout",
     "output_type": "stream",
     "text": [
      "Enter the number1\n",
      "1 is not a prime number\n"
     ]
    }
   ],
   "source": [
    "# python program to find whether a number is prime or composite.\n",
    "\n",
    "number = int(input('Enter the number'))\n",
    "if number > 1:\n",
    "    for i in range(2,int(number/2)+1):\n",
    "                   if (number % 1 == 0):\n",
    "                       print(number, 'is not a prime number')\n",
    "                       break\n",
    "    else:\n",
    "                   print(number,'is a prime number')\n",
    "else:\n",
    "    print(number,'is not a prime number')"
   ]
  },
  {
   "cell_type": "code",
   "execution_count": 5,
   "id": "31e20287",
   "metadata": {},
   "outputs": [
    {
     "name": "stdout",
     "output_type": "stream",
     "text": [
      "The string is not a palindrome.\n"
     ]
    }
   ],
   "source": [
    "# program to check if a string is palindrome or not\n",
    "\n",
    "my_str = \"Alphabet\"\n",
    "my_str = my_str.casefold()\n",
    "rev_str = reversed(my_str)\n",
    "\n",
    "if list(my_str) == list(rev_str):\n",
    "    print('The String is a palindrome.')\n",
    "else:\n",
    "    print('The string is not a palindrome.')"
   ]
  },
  {
   "cell_type": "code",
   "execution_count": 6,
   "id": "9ddfc325",
   "metadata": {},
   "outputs": [
    {
     "name": "stdout",
     "output_type": "stream",
     "text": [
      "The String is a palindrome.\n"
     ]
    }
   ],
   "source": [
    "# program to check if a string is palindrome or not\n",
    "\n",
    "my_str = \"1234321\"\n",
    "my_str = my_str.casefold()\n",
    "rev_str = reversed(my_str)\n",
    "\n",
    "if list(my_str) == list(rev_str):\n",
    "    print('The String is a palindrome.')\n",
    "else:\n",
    "    print('The string is not a palindrome.')"
   ]
  },
  {
   "cell_type": "code",
   "execution_count": 8,
   "id": "20ef3746",
   "metadata": {},
   "outputs": [
    {
     "name": "stdout",
     "output_type": "stream",
     "text": [
      "Hypotenus=5.0\n",
      "Adjacent=4.0\n",
      "Opposite=3.0\n",
      "You Know the answer!\n"
     ]
    }
   ],
   "source": [
    "# Python program to get the third side of right-angled triangle from two given sides\n",
    "    \n",
    "def pythagoras(opp_side, adj_side, hypo):\n",
    "        if opp_side == str('x'):\n",
    "            return('Opposite='+str(((hypo**2)-(adj_side**2))**0.5))\n",
    "        elif adj_side == str('x'):\n",
    "            return('Adjacent='+str(((hypo**2)-(opp_side**2))**0.5))\n",
    "        elif hypo == str('x'):\n",
    "            return('Hypotenus='+str(((opp_side**2)+(adj_side**2))**0.5))\n",
    "        else:\n",
    "            return'You Know the answer!'\n",
    "        \n",
    "print(pythagoras(3,4,'x'))             \n",
    "print(pythagoras(3,'x',5))\n",
    "print(pythagoras('x',4,5))\n",
    "print(pythagoras(3,4,5)) "
   ]
  },
  {
   "cell_type": "code",
   "execution_count": 9,
   "id": "54841d5b",
   "metadata": {},
   "outputs": [
    {
     "name": "stdout",
     "output_type": "stream",
     "text": [
      "Hypotenus=10.0\n",
      "Adjacent=8.0\n",
      "Opposite=6.0\n",
      "You Know the answer!\n"
     ]
    }
   ],
   "source": [
    "# Python program to get the third side of right-angled triangle from two given sides\n",
    "    \n",
    "def pythagoras(opp_side, adj_side, hypo):\n",
    "        if opp_side == str('x'):\n",
    "            return('Opposite='+str(((hypo**2)-(adj_side**2))**0.5))\n",
    "        elif adj_side == str('x'):\n",
    "            return('Adjacent='+str(((hypo**2)-(opp_side**2))**0.5))\n",
    "        elif hypo == str('x'):\n",
    "            return('Hypotenus='+str(((opp_side**2)+(adj_side**2))**0.5))\n",
    "        else:\n",
    "            return'You Know the answer!'\n",
    "        \n",
    "print(pythagoras(6, 8,'x'))             \n",
    "print(pythagoras(6,'x', 10))\n",
    "print(pythagoras('x', 8, 10))\n",
    "print(pythagoras(6, 8, 10)) "
   ]
  },
  {
   "cell_type": "code",
   "execution_count": 10,
   "id": "63e55d17",
   "metadata": {},
   "outputs": [
    {
     "name": "stdout",
     "output_type": "stream",
     "text": [
      "count of all characters in DataAnalyst is :\n",
      "{'D': 1, 'a': 3, 't': 2, 'A': 1, 'n': 1, 'l': 1, 'y': 1, 's': 1}\n"
     ]
    }
   ],
   "source": [
    "#python program to print the frequency of each of the characters present in a given string\n",
    "\n",
    "test_str='DataAnalyst'\n",
    "\n",
    "all_freq = {}\n",
    "\n",
    "for i in test_str:\n",
    "    if i in all_freq:\n",
    "        all_freq[i] += 1\n",
    "    else:\n",
    "        all_freq[i] = 1\n",
    "print('count of all characters in DataAnalyst is :\\n' + str(all_freq))        "
   ]
  },
  {
   "cell_type": "code",
   "execution_count": 11,
   "id": "e66807c8",
   "metadata": {},
   "outputs": [
    {
     "name": "stdout",
     "output_type": "stream",
     "text": [
      "count of all characters in I want to become a Data Analyst is :\n",
      "{'I': 1, ' ': 6, 'w': 1, 'a': 5, 'n': 2, 't': 4, 'o': 2, 'b': 1, 'e': 2, 'c': 1, 'm': 1, 'D': 1, 'A': 1, 'l': 1, 'y': 1, 's': 1}\n"
     ]
    }
   ],
   "source": [
    "#python program to print the frequency of each of the characters present in a given string\n",
    "\n",
    "test_str='I want to become a Data Analyst'\n",
    "\n",
    "all_freq = {}\n",
    "\n",
    "for i in test_str:\n",
    "    if i in all_freq:\n",
    "        all_freq[i] += 1\n",
    "    else:\n",
    "        all_freq[i] = 1\n",
    "print('count of all characters in I want to become a Data Analyst is :\\n' + str(all_freq))        "
   ]
  },
  {
   "cell_type": "code",
   "execution_count": null,
   "id": "106fd57f",
   "metadata": {},
   "outputs": [],
   "source": []
  }
 ],
 "metadata": {
  "kernelspec": {
   "display_name": "Python 3",
   "language": "python",
   "name": "python3"
  },
  "language_info": {
   "codemirror_mode": {
    "name": "ipython",
    "version": 3
   },
   "file_extension": ".py",
   "mimetype": "text/x-python",
   "name": "python",
   "nbconvert_exporter": "python",
   "pygments_lexer": "ipython3",
   "version": "3.8.8"
  }
 },
 "nbformat": 4,
 "nbformat_minor": 5
}
